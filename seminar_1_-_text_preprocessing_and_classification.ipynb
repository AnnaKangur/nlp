{
 "cells": [
  {
   "cell_type": "markdown",
   "metadata": {
    "id": "3PcL7r1hqySq"
   },
   "source": [
    "# Предобработка текста"
   ]
  },
  {
   "cell_type": "markdown",
   "metadata": {
    "id": "N-sGLT0vp4jt"
   },
   "source": [
    "## Часть 1"
   ]
  },
  {
   "cell_type": "markdown",
   "metadata": {
    "id": "Wn8EWAjnr18g"
   },
   "source": [
    "### Токенизация"
   ]
  },
  {
   "cell_type": "code",
   "execution_count": 1,
   "metadata": {
    "colab": {
     "base_uri": "https://localhost:8080/"
    },
    "execution": {
     "iopub.execute_input": "2024-03-26T14:26:47.516079Z",
     "iopub.status.busy": "2024-03-26T14:26:47.515496Z",
     "iopub.status.idle": "2024-03-26T14:26:48.225783Z",
     "shell.execute_reply": "2024-03-26T14:26:48.225135Z",
     "shell.execute_reply.started": "2024-03-26T14:26:47.516048Z"
    },
    "id": "btBdBLxbgrNV",
    "outputId": "a7fe3f5c-0700-424e-e917-819007411386",
    "tags": []
   },
   "outputs": [
    {
     "name": "stderr",
     "output_type": "stream",
     "text": [
      "[nltk_data] Downloading package punkt to /home/jupyter/nltk_data...\n",
      "[nltk_data]   Package punkt is already up-to-date!\n"
     ]
    }
   ],
   "source": [
    "import nltk\n",
    "nltk.download('punkt')\n",
    "from nltk.tokenize import word_tokenize, sent_tokenize"
   ]
  },
  {
   "cell_type": "code",
   "execution_count": 2,
   "metadata": {
    "colab": {
     "base_uri": "https://localhost:8080/"
    },
    "execution": {
     "iopub.execute_input": "2024-03-26T14:26:48.227013Z",
     "iopub.status.busy": "2024-03-26T14:26:48.226652Z",
     "iopub.status.idle": "2024-03-26T14:26:48.243087Z",
     "shell.execute_reply": "2024-03-26T14:26:48.242348Z",
     "shell.execute_reply.started": "2024-03-26T14:26:48.226986Z"
    },
    "id": "eq-QOD9NlO_Q",
    "outputId": "e254cf47-27ef-46b7-c503-2bc58d835f4a",
    "tags": []
   },
   "outputs": [
    {
     "name": "stdout",
     "output_type": "stream",
     "text": [
      "['all', 'work', 'and', 'no', 'play', 'makes', 'jack', 'a', 'dull', 'boy', ',', 'all', 'work', 'and', 'no', 'play']\n"
     ]
    }
   ],
   "source": [
    "data = \"All work and no play makes jack a dull boy, all work and no play\"\n",
    "tokens = word_tokenize(data.lower())\n",
    "print(tokens)"
   ]
  },
  {
   "cell_type": "code",
   "execution_count": 3,
   "metadata": {
    "colab": {
     "base_uri": "https://localhost:8080/"
    },
    "execution": {
     "iopub.execute_input": "2024-03-26T14:26:48.326264Z",
     "iopub.status.busy": "2024-03-26T14:26:48.325638Z",
     "iopub.status.idle": "2024-03-26T14:26:48.336702Z",
     "shell.execute_reply": "2024-03-26T14:26:48.336143Z",
     "shell.execute_reply.started": "2024-03-26T14:26:48.326225Z"
    },
    "id": "eFDKUzkS6Mci",
    "outputId": "0bbbcfce-22d9-4ea0-8912-877a3ec02baf"
   },
   "outputs": [
    {
     "name": "stdout",
     "output_type": "stream",
     "text": [
      "['I was going home when she rung.', 'It was a surprise.']\n"
     ]
    }
   ],
   "source": [
    "print(sent_tokenize(\"I was going home when she rung. It was a surprise.\"))"
   ]
  },
  {
   "cell_type": "markdown",
   "metadata": {
    "id": "DQoG7qznyuf5"
   },
   "source": [
    "[<img src=\"https://raw.githubusercontent.com/natasha/natasha-logos/master/natasha.svg\">](https://github.com/natasha/natasha)"
   ]
  },
  {
   "cell_type": "markdown",
   "metadata": {
    "id": "XPeApu2mwYxY"
   },
   "source": [
    "[Razdel](https://natasha.github.io/razdel/)"
   ]
  },
  {
   "cell_type": "code",
   "execution_count": 4,
   "metadata": {
    "execution": {
     "iopub.execute_input": "2024-03-26T14:26:48.740730Z",
     "iopub.status.busy": "2024-03-26T14:26:48.740129Z",
     "iopub.status.idle": "2024-03-26T14:26:56.048679Z",
     "shell.execute_reply": "2024-03-26T14:26:56.048009Z",
     "shell.execute_reply.started": "2024-03-26T14:26:48.740702Z"
    },
    "id": "TwJj5Z2fvbeN",
    "tags": []
   },
   "outputs": [
    {
     "name": "stdout",
     "output_type": "stream",
     "text": [
      "\n",
      "\u001b[1m[\u001b[0m\u001b[34;49mnotice\u001b[0m\u001b[1;39;49m]\u001b[0m\u001b[39;49m A new release of pip is available: \u001b[0m\u001b[31;49m23.0.1\u001b[0m\u001b[39;49m -> \u001b[0m\u001b[32;49m24.0\u001b[0m\n",
      "\u001b[1m[\u001b[0m\u001b[34;49mnotice\u001b[0m\u001b[1;39;49m]\u001b[0m\u001b[39;49m To update, run: \u001b[0m\u001b[32;49mpython3 -m pip install --upgrade pip\u001b[0m\n"
     ]
    }
   ],
   "source": [
    "%pip install -q razdel"
   ]
  },
  {
   "cell_type": "code",
   "execution_count": 5,
   "metadata": {
    "colab": {
     "base_uri": "https://localhost:8080/"
    },
    "execution": {
     "iopub.execute_input": "2024-03-26T14:26:56.050552Z",
     "iopub.status.busy": "2024-03-26T14:26:56.049893Z",
     "iopub.status.idle": "2024-03-26T14:26:56.076207Z",
     "shell.execute_reply": "2024-03-26T14:26:56.075577Z",
     "shell.execute_reply.started": "2024-03-26T14:26:56.050520Z"
    },
    "id": "Uy58Xd_vve-z",
    "outputId": "b5a29b12-0873-4d64-c116-db9da2a2e4f9",
    "tags": []
   },
   "outputs": [
    {
     "data": {
      "text/plain": [
       "[Substring(0, 13, 'Кружка-термос'),\n",
       " Substring(14, 16, 'на'),\n",
       " Substring(17, 20, '0.5'),\n",
       " Substring(20, 21, 'л'),\n",
       " Substring(22, 23, '('),\n",
       " Substring(23, 28, '50/64'),\n",
       " Substring(29, 32, 'см³'),\n",
       " Substring(32, 33, ','),\n",
       " Substring(34, 37, '516'),\n",
       " Substring(37, 38, ';'),\n",
       " Substring(38, 41, '...'),\n",
       " Substring(41, 42, ')')]"
      ]
     },
     "execution_count": 5,
     "metadata": {},
     "output_type": "execute_result"
    }
   ],
   "source": [
    "from razdel import tokenize, sentenize\n",
    "text = 'Кружка-термос на 0.5л (50/64 см³, 516;...)'\n",
    "list(tokenize(text))"
   ]
  },
  {
   "cell_type": "markdown",
   "metadata": {
    "id": "VrmhCpNdQo6r"
   },
   "source": [
    "#### Регулярные выражения\n",
    "\n",
    "Исчерпывающий пост https://habr.com/ru/post/349860/"
   ]
  },
  {
   "cell_type": "code",
   "execution_count": 6,
   "metadata": {
    "colab": {
     "base_uri": "https://localhost:8080/"
    },
    "execution": {
     "iopub.execute_input": "2024-03-26T14:26:56.078069Z",
     "iopub.status.busy": "2024-03-26T14:26:56.077563Z",
     "iopub.status.idle": "2024-03-26T14:26:56.089317Z",
     "shell.execute_reply": "2024-03-26T14:26:56.088710Z",
     "shell.execute_reply.started": "2024-03-26T14:26:56.078040Z"
    },
    "id": "IccRpcG06Mfd",
    "outputId": "1560c7ef-9dde-45e8-fb5b-0998190cf8ba",
    "tags": []
   },
   "outputs": [
    {
     "data": {
      "text/plain": [
       "['super', 'c', 'a', 'a', 'c', 'a', 'c']"
      ]
     },
     "execution_count": 6,
     "metadata": {},
     "output_type": "execute_result"
    }
   ],
   "source": [
    "import re\n",
    "word = 'supercalifragilisticexpialidocious'\n",
    "re.findall('[abc]|up|super', word)"
   ]
  },
  {
   "cell_type": "code",
   "execution_count": 7,
   "metadata": {
    "colab": {
     "base_uri": "https://localhost:8080/"
    },
    "execution": {
     "iopub.execute_input": "2024-03-26T14:26:56.090901Z",
     "iopub.status.busy": "2024-03-26T14:26:56.090590Z",
     "iopub.status.idle": "2024-03-26T14:26:56.099732Z",
     "shell.execute_reply": "2024-03-26T14:26:56.099231Z",
     "shell.execute_reply.started": "2024-03-26T14:26:56.090874Z"
    },
    "id": "Je8YPHLZPJW7",
    "outputId": "e731e421-3a25-4039-a40f-18d281952745",
    "tags": []
   },
   "outputs": [
    {
     "data": {
      "text/plain": [
       "['49', '432', '312']"
      ]
     },
     "execution_count": 7,
     "metadata": {},
     "output_type": "execute_result"
    }
   ],
   "source": [
    "re.findall('\\d{1,3}', 'These are some numbers: 49 and 432312')"
   ]
  },
  {
   "cell_type": "code",
   "execution_count": 8,
   "metadata": {
    "colab": {
     "base_uri": "https://localhost:8080/",
     "height": 35
    },
    "execution": {
     "iopub.execute_input": "2024-03-26T14:26:56.100992Z",
     "iopub.status.busy": "2024-03-26T14:26:56.100460Z",
     "iopub.status.idle": "2024-03-26T14:26:56.110114Z",
     "shell.execute_reply": "2024-03-26T14:26:56.109447Z",
     "shell.execute_reply.started": "2024-03-26T14:26:56.100971Z"
    },
    "id": "fzde8MX1PJXA",
    "outputId": "5d638269-ee23-42df-8ed7-50dd63349c45",
    "tags": []
   },
   "outputs": [
    {
     "data": {
      "text/plain": [
       "'How to split text'"
      ]
     },
     "execution_count": 8,
     "metadata": {},
     "output_type": "execute_result"
    }
   ],
   "source": [
    "re.sub('[,\\.?!]','','How, to? split. text!')"
   ]
  },
  {
   "cell_type": "code",
   "execution_count": 9,
   "metadata": {
    "colab": {
     "base_uri": "https://localhost:8080/"
    },
    "execution": {
     "iopub.execute_input": "2024-03-26T14:26:56.111511Z",
     "iopub.status.busy": "2024-03-26T14:26:56.111017Z",
     "iopub.status.idle": "2024-03-26T14:26:56.120602Z",
     "shell.execute_reply": "2024-03-26T14:26:56.120015Z",
     "shell.execute_reply.started": "2024-03-26T14:26:56.111481Z"
    },
    "id": "GyswV9nuPJXF",
    "outputId": "d4d23159-3e92-4e1d-f7d1-be6ea5dee092",
    "tags": []
   },
   "outputs": [
    {
     "data": {
      "text/plain": [
       "['I', 'can', 'play', 'football']"
      ]
     },
     "execution_count": 9,
     "metadata": {},
     "output_type": "execute_result"
    }
   ],
   "source": [
    "re.sub('[^A-z]',' ','I 123 can 45 play 67 football').split()"
   ]
  },
  {
   "cell_type": "markdown",
   "metadata": {
    "id": "Mz0wIRkRswOQ"
   },
   "source": [
    "### Удаление неинформативных слов"
   ]
  },
  {
   "cell_type": "markdown",
   "metadata": {
    "id": "trdPOBM2jEMf"
   },
   "source": [
    "#### N-граммы\n",
    "\n",
    "<img src=\"https://res.cloudinary.com/practicaldev/image/fetch/s--466CQV1q--/c_limit%2Cf_auto%2Cfl_progressive%2Cq_66%2Cw_880/https://thepracticaldev.s3.amazonaws.com/i/78nf1vryed8h1tz05fim.gif\" height=400>"
   ]
  },
  {
   "cell_type": "code",
   "execution_count": 10,
   "metadata": {
    "execution": {
     "iopub.execute_input": "2024-03-26T14:26:56.122120Z",
     "iopub.status.busy": "2024-03-26T14:26:56.121482Z",
     "iopub.status.idle": "2024-03-26T14:26:56.130969Z",
     "shell.execute_reply": "2024-03-26T14:26:56.130443Z",
     "shell.execute_reply.started": "2024-03-26T14:26:56.122087Z"
    },
    "tags": []
   },
   "outputs": [
    {
     "data": {
      "text/plain": [
       "['all',\n",
       " 'work',\n",
       " 'and',\n",
       " 'no',\n",
       " 'play',\n",
       " 'makes',\n",
       " 'jack',\n",
       " 'a',\n",
       " 'dull',\n",
       " 'boy',\n",
       " ',',\n",
       " 'all',\n",
       " 'work',\n",
       " 'and',\n",
       " 'no',\n",
       " 'play']"
      ]
     },
     "execution_count": 10,
     "metadata": {},
     "output_type": "execute_result"
    }
   ],
   "source": [
    "tokens"
   ]
  },
  {
   "cell_type": "code",
   "execution_count": 11,
   "metadata": {
    "execution": {
     "iopub.execute_input": "2024-03-26T14:26:56.133342Z",
     "iopub.status.busy": "2024-03-26T14:26:56.132795Z",
     "iopub.status.idle": "2024-03-26T14:26:56.142974Z",
     "shell.execute_reply": "2024-03-26T14:26:56.142296Z",
     "shell.execute_reply.started": "2024-03-26T14:26:56.133316Z"
    },
    "tags": []
   },
   "outputs": [
    {
     "name": "stdout",
     "output_type": "stream",
     "text": [
      "[('all',), ('work',), ('and',), ('no',), ('play',), ('makes',), ('jack',), ('a',), ('dull',), ('boy',), (',',), ('all',), ('work',), ('and',), ('no',), ('play',)]\n"
     ]
    }
   ],
   "source": [
    "unigram = list(nltk.ngrams(tokens, 1))\n",
    "print(unigram)"
   ]
  },
  {
   "cell_type": "code",
   "execution_count": 12,
   "metadata": {
    "colab": {
     "base_uri": "https://localhost:8080/"
    },
    "execution": {
     "iopub.execute_input": "2024-03-26T14:26:56.144714Z",
     "iopub.status.busy": "2024-03-26T14:26:56.144170Z",
     "iopub.status.idle": "2024-03-26T14:26:56.155959Z",
     "shell.execute_reply": "2024-03-26T14:26:56.155356Z",
     "shell.execute_reply.started": "2024-03-26T14:26:56.144684Z"
    },
    "id": "YYEBfCxLic3R",
    "outputId": "1e6f9ac7-a21f-427a-a421-6d936f2f6b68",
    "tags": []
   },
   "outputs": [
    {
     "name": "stdout",
     "output_type": "stream",
     "text": [
      "[('all', 'work'), ('work', 'and'), ('and', 'no'), ('no', 'play'), ('play', 'makes'), ('makes', 'jack'), ('jack', 'a'), ('a', 'dull'), ('dull', 'boy'), ('boy', ','), (',', 'all'), ('all', 'work'), ('work', 'and'), ('and', 'no'), ('no', 'play')]\n"
     ]
    }
   ],
   "source": [
    "bigram = list(nltk.ngrams(tokens, 2))\n",
    "print(bigram)"
   ]
  },
  {
   "cell_type": "code",
   "execution_count": 13,
   "metadata": {
    "colab": {
     "base_uri": "https://localhost:8080/"
    },
    "execution": {
     "iopub.execute_input": "2024-03-26T14:26:56.157166Z",
     "iopub.status.busy": "2024-03-26T14:26:56.156662Z",
     "iopub.status.idle": "2024-03-26T14:26:56.169316Z",
     "shell.execute_reply": "2024-03-26T14:26:56.168724Z",
     "shell.execute_reply.started": "2024-03-26T14:26:56.157145Z"
    },
    "id": "1AFeZqejmWwN",
    "outputId": "8f9fff61-090e-4e05-adc3-f9052610d5bc",
    "tags": []
   },
   "outputs": [
    {
     "name": "stdout",
     "output_type": "stream",
     "text": [
      "Популярные униграммы:  [(('all',), 2), (('work',), 2), (('and',), 2), (('no',), 2), (('play',), 2)]\n",
      "Популярные биграммы:  [(('all', 'work'), 2), (('work', 'and'), 2), (('and', 'no'), 2), (('no', 'play'), 2), (('play', 'makes'), 1)]\n"
     ]
    }
   ],
   "source": [
    "from nltk import FreqDist\n",
    "print('Популярные униграммы: ', FreqDist(unigram).most_common(5))\n",
    "print('Популярные биграммы: ', FreqDist(bigram).most_common(5))"
   ]
  },
  {
   "cell_type": "markdown",
   "metadata": {
    "id": "3W3jJ56hnBFu"
   },
   "source": [
    "#### Стоп-слова"
   ]
  },
  {
   "cell_type": "code",
   "execution_count": 14,
   "metadata": {
    "colab": {
     "base_uri": "https://localhost:8080/"
    },
    "execution": {
     "iopub.execute_input": "2024-03-26T14:26:56.170784Z",
     "iopub.status.busy": "2024-03-26T14:26:56.170207Z",
     "iopub.status.idle": "2024-03-26T14:26:56.188218Z",
     "shell.execute_reply": "2024-03-26T14:26:56.187713Z",
     "shell.execute_reply.started": "2024-03-26T14:26:56.170764Z"
    },
    "id": "sIBwQ3nBnEfV",
    "outputId": "5f6c8413-a652-4ea6-9b6d-450e099075cb",
    "tags": []
   },
   "outputs": [
    {
     "name": "stderr",
     "output_type": "stream",
     "text": [
      "[nltk_data] Downloading package stopwords to\n",
      "[nltk_data]     /home/jupyter/nltk_data...\n",
      "[nltk_data]   Package stopwords is already up-to-date!\n"
     ]
    }
   ],
   "source": [
    "nltk.download('stopwords')\n",
    "from nltk.corpus import stopwords"
   ]
  },
  {
   "cell_type": "code",
   "execution_count": 15,
   "metadata": {
    "colab": {
     "base_uri": "https://localhost:8080/"
    },
    "execution": {
     "iopub.execute_input": "2024-03-26T14:26:56.189534Z",
     "iopub.status.busy": "2024-03-26T14:26:56.188975Z",
     "iopub.status.idle": "2024-03-26T14:26:56.200612Z",
     "shell.execute_reply": "2024-03-26T14:26:56.200122Z",
     "shell.execute_reply.started": "2024-03-26T14:26:56.189466Z"
    },
    "id": "o1nk-TqEslRl",
    "outputId": "e56801a2-c8bf-479a-f1e8-ed312cdb3a9a",
    "tags": []
   },
   "outputs": [
    {
     "name": "stdout",
     "output_type": "stream",
     "text": [
      "{'does', 'just', 'ma', 'wasn', \"won't\", \"didn't\", 'yourselves', 'if', 'hadn', 'doesn', 'mightn', 'shan', \"you'd\", \"needn't\", \"aren't\", 'don', \"you're\", 'now', 'only', \"doesn't\", 'him', 'wouldn', \"you'll\", 'will', 'm', 'shouldn', \"haven't\", \"isn't\", 'me', \"shan't\", 'yours', 'couldn', 'hers', 'aren', 'then', 'or', \"weren't\", 'she', 'below', 'own', 'weren', 'can', 'your', 'they', 'other', 'into', 'up', 'down', 'who', 'why', 'after', 'hasn', 'was', 'nor', 'on', 'most', 'when', 'their', 'did', 'as', 'whom', 'once', 'that', \"you've\", 'between', 'these', 'not', 'too', 'am', 'while', 'any', 't', 'has', 'herself', 'here', 'itself', 'you', 'be', \"mightn't\", 'against', 'are', 'further', 'for', 'above', 'all', 'both', 'very', \"wouldn't\", 'what', \"mustn't\", 'won', 'a', 'myself', 'i', 'but', 'more', 'ours', 'so', \"don't\", 'because', 'over', 're', 'himself', 'where', 'been', 'about', 'under', 'which', 'through', \"that'll\", 'before', 'with', 'to', 'should', 'her', \"shouldn't\", 'those', 'themselves', \"it's\", \"should've\", 've', 'there', 'o', 'his', 'my', 's', 'same', 'until', \"wasn't\", 'have', 'do', 'theirs', 'needn', 'its', 'how', 'them', 'during', 'ourselves', 'and', 'off', 'we', 'd', 'the', \"she's\", 'y', 'll', 'this', 'such', \"hadn't\", 'from', 'our', 'had', 'no', 'were', \"hasn't\", 'it', 'by', 'out', 'is', 'some', 'doing', 'of', 'didn', 'again', 'having', 'isn', 'being', 'than', 'he', 'an', 'ain', 'yourself', 'at', 'few', 'each', \"couldn't\", 'haven', 'in', 'mustn'}\n"
     ]
    }
   ],
   "source": [
    "stopWords = set(stopwords.words('english'))\n",
    "print(stopWords)"
   ]
  },
  {
   "cell_type": "code",
   "execution_count": 16,
   "metadata": {
    "execution": {
     "iopub.execute_input": "2024-03-26T14:26:56.201822Z",
     "iopub.status.busy": "2024-03-26T14:26:56.201370Z",
     "iopub.status.idle": "2024-03-26T14:26:56.208555Z",
     "shell.execute_reply": "2024-03-26T14:26:56.208040Z",
     "shell.execute_reply.started": "2024-03-26T14:26:56.201802Z"
    },
    "tags": []
   },
   "outputs": [],
   "source": [
    "# set(stopwords.words('russian'))"
   ]
  },
  {
   "cell_type": "code",
   "execution_count": 17,
   "metadata": {
    "colab": {
     "base_uri": "https://localhost:8080/"
    },
    "execution": {
     "iopub.execute_input": "2024-03-26T14:26:56.209579Z",
     "iopub.status.busy": "2024-03-26T14:26:56.209236Z",
     "iopub.status.idle": "2024-03-26T14:26:56.218475Z",
     "shell.execute_reply": "2024-03-26T14:26:56.217969Z",
     "shell.execute_reply.started": "2024-03-26T14:26:56.209559Z"
    },
    "id": "KFkfJm9ktAVa",
    "outputId": "11e85df4-d2e6-4f9f-ff23-f6cc50fee22b"
   },
   "outputs": [
    {
     "name": "stdout",
     "output_type": "stream",
     "text": [
      "['work', 'play', 'makes', 'jack', 'dull', 'boy', ',', 'work', 'play']\n"
     ]
    }
   ],
   "source": [
    "print([word for word in tokens if word not in stopWords])"
   ]
  },
  {
   "cell_type": "code",
   "execution_count": 18,
   "metadata": {
    "colab": {
     "base_uri": "https://localhost:8080/"
    },
    "execution": {
     "iopub.execute_input": "2024-03-26T14:26:56.219886Z",
     "iopub.status.busy": "2024-03-26T14:26:56.219249Z",
     "iopub.status.idle": "2024-03-26T14:26:56.227990Z",
     "shell.execute_reply": "2024-03-26T14:26:56.227391Z",
     "shell.execute_reply.started": "2024-03-26T14:26:56.219859Z"
    },
    "id": "e5QoqlHiS83f",
    "outputId": "628de9cf-0e10-48ee-e743-448512a7cd13",
    "tags": []
   },
   "outputs": [
    {
     "name": "stdout",
     "output_type": "stream",
     "text": [
      "!\"#$%&'()*+,-./:;<=>?@[\\]^_`{|}~\n"
     ]
    }
   ],
   "source": [
    "import string\n",
    "print(string.punctuation)"
   ]
  },
  {
   "cell_type": "markdown",
   "metadata": {
    "id": "Bh-MYv6e-skM"
   },
   "source": [
    "#### Стемминг vs Лемматизация\n",
    "* ‘Caring’ -> Лемматизация -> ‘Care’\n",
    "* ‘Caring’ -> Стемминг -> ‘Car’"
   ]
  },
  {
   "cell_type": "markdown",
   "metadata": {
    "id": "aAUKc1oTiQjf"
   },
   "source": [
    "### Стемминг\n",
    "* процесс нахождения основы слова для заданного исходного слова"
   ]
  },
  {
   "cell_type": "code",
   "execution_count": 19,
   "metadata": {
    "execution": {
     "iopub.execute_input": "2024-03-26T14:26:56.229382Z",
     "iopub.status.busy": "2024-03-26T14:26:56.228758Z",
     "iopub.status.idle": "2024-03-26T14:26:56.238659Z",
     "shell.execute_reply": "2024-03-26T14:26:56.238063Z",
     "shell.execute_reply.started": "2024-03-26T14:26:56.229335Z"
    },
    "id": "iRVu-TrON4sq"
   },
   "outputs": [],
   "source": [
    "from nltk.stem import PorterStemmer, SnowballStemmer\n",
    "words = [\"game\", \"gaming\", \"gamed\", \"games\", \"compacted\"]\n",
    "words_ru = ['корова', 'мальчики', 'мужчины', 'столом', 'убежала']"
   ]
  },
  {
   "cell_type": "code",
   "execution_count": 20,
   "metadata": {
    "colab": {
     "base_uri": "https://localhost:8080/"
    },
    "execution": {
     "iopub.execute_input": "2024-03-26T14:26:56.239857Z",
     "iopub.status.busy": "2024-03-26T14:26:56.239339Z",
     "iopub.status.idle": "2024-03-26T14:26:56.266072Z",
     "shell.execute_reply": "2024-03-26T14:26:56.265438Z",
     "shell.execute_reply.started": "2024-03-26T14:26:56.239830Z"
    },
    "id": "L9HTGfsBN9eX",
    "outputId": "e4392b8d-20cb-4a60-9a09-1326d2fdf3f3"
   },
   "outputs": [
    {
     "data": {
      "text/plain": [
       "['game', 'game', 'game', 'game', 'compact']"
      ]
     },
     "execution_count": 20,
     "metadata": {},
     "output_type": "execute_result"
    }
   ],
   "source": [
    "ps = PorterStemmer()\n",
    "list(map(ps.stem, words))"
   ]
  },
  {
   "cell_type": "code",
   "execution_count": 21,
   "metadata": {
    "colab": {
     "base_uri": "https://localhost:8080/"
    },
    "execution": {
     "iopub.execute_input": "2024-03-26T14:26:56.308935Z",
     "iopub.status.busy": "2024-03-26T14:26:56.308309Z",
     "iopub.status.idle": "2024-03-26T14:26:56.325630Z",
     "shell.execute_reply": "2024-03-26T14:26:56.325020Z",
     "shell.execute_reply.started": "2024-03-26T14:26:56.308898Z"
    },
    "id": "U5qZkB-oODkW",
    "outputId": "b2094c0b-6f4f-431b-801e-107fac105e9f"
   },
   "outputs": [
    {
     "data": {
      "text/plain": [
       "['коров', 'мальчик', 'мужчин', 'стол', 'убежа']"
      ]
     },
     "execution_count": 21,
     "metadata": {},
     "output_type": "execute_result"
    }
   ],
   "source": [
    "ss = SnowballStemmer(language='russian')\n",
    "list(map(ss.stem, words_ru))"
   ]
  },
  {
   "cell_type": "markdown",
   "metadata": {
    "id": "FbTXbi9FJXr1"
   },
   "source": [
    "### Лематизация\n",
    "* процесс приведения словоформы к лемме — её нормальной (словарной) форме"
   ]
  },
  {
   "cell_type": "code",
   "execution_count": 22,
   "metadata": {
    "execution": {
     "iopub.execute_input": "2024-03-26T14:26:56.710127Z",
     "iopub.status.busy": "2024-03-26T14:26:56.709416Z",
     "iopub.status.idle": "2024-03-26T14:26:56.718602Z",
     "shell.execute_reply": "2024-03-26T14:26:56.718083Z",
     "shell.execute_reply.started": "2024-03-26T14:26:56.710097Z"
    },
    "id": "QF4nnEz00thb",
    "tags": []
   },
   "outputs": [],
   "source": [
    "raw = \"\"\"DENNIS: Listen, strange women lying in ponds distributing swords\n",
    "is no basis for a system of government.  Supreme executive power derives from\n",
    "a mandate from the masses, not from some farcical aquatic ceremony.\"\"\"\n",
    "\n",
    "raw_ru = \"\"\"Не существует научных доказательств в пользу эффективности НЛП, оно\n",
    "признано псевдонаукой. Систематические обзоры указывают, что НЛП основано на\n",
    "устаревших представлениях об устройстве мозга, несовместимо с современной\n",
    "неврологией и содержит ряд фактических ошибок.\"\"\""
   ]
  },
  {
   "cell_type": "code",
   "execution_count": 23,
   "metadata": {
    "colab": {
     "base_uri": "https://localhost:8080/"
    },
    "execution": {
     "iopub.execute_input": "2024-03-26T14:26:57.122755Z",
     "iopub.status.busy": "2024-03-26T14:26:57.121981Z",
     "iopub.status.idle": "2024-03-26T14:26:57.130922Z",
     "shell.execute_reply": "2024-03-26T14:26:57.130400Z",
     "shell.execute_reply.started": "2024-03-26T14:26:57.122718Z"
    },
    "id": "mljfOAC4n21I",
    "outputId": "5bf02a63-b1cd-4923-cef6-610c496bad73",
    "tags": []
   },
   "outputs": [],
   "source": [
    "# %pip install -q pymorphy2"
   ]
  },
  {
   "cell_type": "code",
   "execution_count": 24,
   "metadata": {
    "colab": {
     "base_uri": "https://localhost:8080/"
    },
    "execution": {
     "iopub.execute_input": "2024-03-26T14:26:57.535337Z",
     "iopub.status.busy": "2024-03-26T14:26:57.534693Z",
     "iopub.status.idle": "2024-03-26T14:26:57.636711Z",
     "shell.execute_reply": "2024-03-26T14:26:57.636065Z",
     "shell.execute_reply.started": "2024-03-26T14:26:57.535301Z"
    },
    "id": "-Zez7jnXl5uJ",
    "outputId": "51782962-44ee-431d-c025-5a70226bf9e7",
    "tags": []
   },
   "outputs": [
    {
     "name": "stdout",
     "output_type": "stream",
     "text": [
      "не существовать научный доказательство в польза эффективность нлп, оно\n",
      "признать псевдонаукой. систематический обзор указывают, что нлп основать на\n",
      "устаревший представление о устройство мозга, несовместимый с современной\n",
      "неврология и содержать ряд фактический ошибок.\n"
     ]
    }
   ],
   "source": [
    "# 1\n",
    "import pymorphy2\n",
    "morph = pymorphy2.MorphAnalyzer()\n",
    "pymorphy_results = list(map(lambda x: morph.parse(x), raw_ru.split(' ')))\n",
    "print(' '.join([res[0].normal_form for res in pymorphy_results]))"
   ]
  },
  {
   "cell_type": "code",
   "execution_count": 25,
   "metadata": {
    "execution": {
     "iopub.execute_input": "2024-03-26T14:26:57.920312Z",
     "iopub.status.busy": "2024-03-26T14:26:57.919693Z",
     "iopub.status.idle": "2024-03-26T14:27:01.322426Z",
     "shell.execute_reply": "2024-03-26T14:27:01.321644Z",
     "shell.execute_reply.started": "2024-03-26T14:26:57.920271Z"
    },
    "tags": []
   },
   "outputs": [
    {
     "name": "stdout",
     "output_type": "stream",
     "text": [
      "\n",
      "\u001b[1m[\u001b[0m\u001b[34;49mnotice\u001b[0m\u001b[1;39;49m]\u001b[0m\u001b[39;49m A new release of pip is available: \u001b[0m\u001b[31;49m23.0.1\u001b[0m\u001b[39;49m -> \u001b[0m\u001b[32;49m24.0\u001b[0m\n",
      "\u001b[1m[\u001b[0m\u001b[34;49mnotice\u001b[0m\u001b[1;39;49m]\u001b[0m\u001b[39;49m To update, run: \u001b[0m\u001b[32;49mpython3 -m pip install --upgrade pip\u001b[0m\n"
     ]
    }
   ],
   "source": [
    "%pip install -q spacy"
   ]
  },
  {
   "cell_type": "code",
   "execution_count": 26,
   "metadata": {
    "execution": {
     "iopub.execute_input": "2024-03-26T14:27:01.324226Z",
     "iopub.status.busy": "2024-03-26T14:27:01.323695Z",
     "iopub.status.idle": "2024-03-26T14:27:01.352369Z",
     "shell.execute_reply": "2024-03-26T14:27:01.351804Z",
     "shell.execute_reply.started": "2024-03-26T14:27:01.324199Z"
    },
    "tags": []
   },
   "outputs": [],
   "source": [
    "# %python -m spacy download en"
   ]
  },
  {
   "cell_type": "code",
   "execution_count": 27,
   "metadata": {
    "colab": {
     "base_uri": "https://localhost:8080/"
    },
    "execution": {
     "iopub.execute_input": "2024-03-26T14:27:01.354422Z",
     "iopub.status.busy": "2024-03-26T14:27:01.353773Z",
     "iopub.status.idle": "2024-03-26T14:27:05.492737Z",
     "shell.execute_reply": "2024-03-26T14:27:05.492126Z",
     "shell.execute_reply.started": "2024-03-26T14:27:01.354397Z"
    },
    "id": "w7MDqIvWib4O",
    "outputId": "93dee74a-4769-4473-a6bb-e3e0b71bad2e",
    "tags": []
   },
   "outputs": [
    {
     "name": "stderr",
     "output_type": "stream",
     "text": [
      "/usr/local/lib/python3.10/dist-packages/torch/cuda/__init__.py:546: UserWarning: Can't initialize NVML\n",
      "  warnings.warn(\"Can't initialize NVML\")\n",
      "2024-03-26 14:27:02.841878: I tensorflow/core/util/port.cc:110] oneDNN custom operations are on. You may see slightly different numerical results due to floating-point round-off errors from different computation orders. To turn them off, set the environment variable `TF_ENABLE_ONEDNN_OPTS=0`.\n",
      "2024-03-26 14:27:02.884465: I tensorflow/core/platform/cpu_feature_guard.cc:182] This TensorFlow binary is optimized to use available CPU instructions in performance-critical operations.\n",
      "To enable the following instructions: AVX2 AVX512F AVX512_VNNI FMA, in other operations, rebuild TensorFlow with the appropriate compiler flags.\n",
      "2024-03-26 14:27:03.768090: W tensorflow/compiler/tf2tensorrt/utils/py_utils.cc:38] TF-TRT Warning: Could not find TensorRT\n",
      "2024-03-26 14:27:04.709259: E tensorflow/compiler/xla/stream_executor/cuda/cuda_driver.cc:266] failed call to cuInit: CUDA_ERROR_NO_DEVICE: no CUDA-capable device is detected\n"
     ]
    },
    {
     "name": "stdout",
     "output_type": "stream",
     "text": [
      "DENNIS : listen , strange woman lie in pond distribute sword \n",
      " be no basis for a system of government .   Supreme executive power derive from \n",
      " a mandate from the masse , not from some farcical aquatic ceremony .\n"
     ]
    }
   ],
   "source": [
    "# 2\n",
    "import spacy\n",
    "nlp = spacy.load('en_core_web_sm')\n",
    "spacy_results = nlp(raw)\n",
    "print(' '.join([token.lemma_ for token in spacy_results]))"
   ]
  },
  {
   "cell_type": "markdown",
   "metadata": {
    "id": "LVC5gjCRk5bD"
   },
   "source": [
    "[Сравнение PyMorphy2 и PyMystem3](https://habr.com/ru/post/503420/)"
   ]
  },
  {
   "cell_type": "markdown",
   "metadata": {
    "id": "Yim_NVYA6MeS"
   },
   "source": [
    "### Part-of-Speech"
   ]
  },
  {
   "cell_type": "code",
   "execution_count": 28,
   "metadata": {
    "colab": {
     "base_uri": "https://localhost:8080/"
    },
    "execution": {
     "iopub.execute_input": "2024-03-26T14:27:05.494278Z",
     "iopub.status.busy": "2024-03-26T14:27:05.493746Z",
     "iopub.status.idle": "2024-03-26T14:27:05.511436Z",
     "shell.execute_reply": "2024-03-26T14:27:05.510936Z",
     "shell.execute_reply.started": "2024-03-26T14:27:05.494249Z"
    },
    "id": "2t_MamYKqbSk",
    "outputId": "17c3a9fc-4fc2-4d0f-9353-a76e653cf6f0",
    "tags": []
   },
   "outputs": [
    {
     "data": {
      "text/plain": [
       "[('не', OpencorporaTag('PRCL')),\n",
       " ('существовать', OpencorporaTag('VERB,impf,intr sing,3per,pres,indc')),\n",
       " ('научный', OpencorporaTag('ADJF,Qual plur,gent')),\n",
       " ('доказательство', OpencorporaTag('NOUN,inan,neut plur,gent')),\n",
       " ('в', OpencorporaTag('PREP')),\n",
       " ('польза', OpencorporaTag('NOUN,inan,femn sing,accs')),\n",
       " ('эффективность', OpencorporaTag('NOUN,inan,femn sing,gent')),\n",
       " ('нлп,', OpencorporaTag('UNKN')),\n",
       " ('оно\\nпризнать', OpencorporaTag('PRTS,perf,past,pssv neut,sing'))]"
      ]
     },
     "execution_count": 28,
     "metadata": {},
     "output_type": "execute_result"
    }
   ],
   "source": [
    "# 1\n",
    "[(res[0].normal_form, res[0].tag) for res in pymorphy_results[:9]]"
   ]
  },
  {
   "cell_type": "code",
   "execution_count": 29,
   "metadata": {
    "colab": {
     "base_uri": "https://localhost:8080/"
    },
    "execution": {
     "iopub.execute_input": "2024-03-26T14:27:05.512728Z",
     "iopub.status.busy": "2024-03-26T14:27:05.512152Z",
     "iopub.status.idle": "2024-03-26T14:27:05.533292Z",
     "shell.execute_reply": "2024-03-26T14:27:05.532759Z",
     "shell.execute_reply.started": "2024-03-26T14:27:05.512695Z"
    },
    "id": "Doa85yw6JWea",
    "outputId": "794ec981-0378-4020-e316-f1e2045d8949",
    "tags": []
   },
   "outputs": [
    {
     "data": {
      "text/plain": [
       "[('DENNIS', 'PROPN'),\n",
       " (':', 'PUNCT'),\n",
       " ('listen', 'VERB'),\n",
       " (',', 'PUNCT'),\n",
       " ('strange', 'ADJ'),\n",
       " ('woman', 'NOUN'),\n",
       " ('lie', 'VERB')]"
      ]
     },
     "execution_count": 29,
     "metadata": {},
     "output_type": "execute_result"
    }
   ],
   "source": [
    "# 2\n",
    "[(token.lemma_, token.pos_) for token in spacy_results[:7]]"
   ]
  },
  {
   "cell_type": "code",
   "execution_count": 30,
   "metadata": {
    "colab": {
     "base_uri": "https://localhost:8080/"
    },
    "execution": {
     "iopub.execute_input": "2024-03-26T14:27:05.534569Z",
     "iopub.status.busy": "2024-03-26T14:27:05.534063Z",
     "iopub.status.idle": "2024-03-26T14:27:08.905233Z",
     "shell.execute_reply": "2024-03-26T14:27:08.904616Z",
     "shell.execute_reply.started": "2024-03-26T14:27:05.534540Z"
    },
    "id": "EVGJLVjLtFDp",
    "outputId": "c01be447-80df-4477-c875-28889e7b7e36",
    "tags": []
   },
   "outputs": [
    {
     "name": "stdout",
     "output_type": "stream",
     "text": [
      "\n",
      "\u001b[1m[\u001b[0m\u001b[34;49mnotice\u001b[0m\u001b[1;39;49m]\u001b[0m\u001b[39;49m A new release of pip is available: \u001b[0m\u001b[31;49m23.0.1\u001b[0m\u001b[39;49m -> \u001b[0m\u001b[32;49m24.0\u001b[0m\n",
      "\u001b[1m[\u001b[0m\u001b[34;49mnotice\u001b[0m\u001b[1;39;49m]\u001b[0m\u001b[39;49m To update, run: \u001b[0m\u001b[32;49mpython3 -m pip install --upgrade pip\u001b[0m\n"
     ]
    }
   ],
   "source": [
    "%pip install -q rnnmorph"
   ]
  },
  {
   "cell_type": "code",
   "execution_count": 31,
   "metadata": {
    "colab": {
     "base_uri": "https://localhost:8080/"
    },
    "execution": {
     "iopub.execute_input": "2024-03-26T14:27:08.906750Z",
     "iopub.status.busy": "2024-03-26T14:27:08.906246Z",
     "iopub.status.idle": "2024-03-26T14:27:10.846813Z",
     "shell.execute_reply": "2024-03-26T14:27:10.846278Z",
     "shell.execute_reply.started": "2024-03-26T14:27:08.906718Z"
    },
    "id": "0Ms2yeEFqrtZ",
    "outputId": "dd9131e0-82bd-46a7-e54e-1bed989ff9fb",
    "tags": []
   },
   "outputs": [
    {
     "name": "stdout",
     "output_type": "stream",
     "text": [
      "1/1 [==============================] - 1s 839ms/step\n"
     ]
    },
    {
     "data": {
      "text/plain": [
       "[('не', 'PART', '_'),\n",
       " ('существовать',\n",
       "  'VERB',\n",
       "  'Mood=Ind|Number=Sing|Person=3|Tense=Notpast|VerbForm=Fin|Voice=Act'),\n",
       " ('научный', 'ADJ', 'Case=Gen|Degree=Pos|Number=Plur'),\n",
       " ('доказательство', 'NOUN', 'Case=Gen|Gender=Neut|Number=Plur'),\n",
       " ('в', 'ADP', '_'),\n",
       " ('польза', 'NOUN', 'Case=Acc|Gender=Fem|Number=Sing'),\n",
       " ('эффективность', 'NOUN', 'Case=Gen|Gender=Fem|Number=Sing')]"
      ]
     },
     "execution_count": 31,
     "metadata": {},
     "output_type": "execute_result"
    }
   ],
   "source": [
    "# 3\n",
    "from rnnmorph.predictor import RNNMorphPredictor\n",
    "predictor = RNNMorphPredictor(language=\"ru\")\n",
    "rnnmorph_result = predictor.predict(raw_ru.split(' '))\n",
    "[(token.normal_form, token.pos, token.tag) for token in rnnmorph_result[:7]]"
   ]
  },
  {
   "cell_type": "markdown",
   "metadata": {
    "id": "3_Slt2R76Mgk"
   },
   "source": [
    "### Named entities recognition"
   ]
  },
  {
   "cell_type": "code",
   "execution_count": 32,
   "metadata": {
    "colab": {
     "base_uri": "https://localhost:8080/"
    },
    "execution": {
     "iopub.execute_input": "2024-03-26T14:27:10.849016Z",
     "iopub.status.busy": "2024-03-26T14:27:10.848613Z",
     "iopub.status.idle": "2024-03-26T14:27:10.871262Z",
     "shell.execute_reply": "2024-03-26T14:27:10.870754Z",
     "shell.execute_reply.started": "2024-03-26T14:27:10.848987Z"
    },
    "id": "zvB43ZHT6MhR",
    "outputId": "3d490cfc-0b7f-4cb1-f655-7e9ca16f6a2d",
    "tags": []
   },
   "outputs": [
    {
     "name": "stdout",
     "output_type": "stream",
     "text": [
      "Apple 0 5 ORG\n",
      "U.K. 27 31 GPE\n",
      "$1 billion 44 54 MONEY\n"
     ]
    }
   ],
   "source": [
    "doc = nlp('Apple is looking at buying U.K. startup for $1 billion')\n",
    "\n",
    "for ent in doc.ents:\n",
    "    print(ent.text, ent.start_char, ent.end_char, ent.label_)"
   ]
  },
  {
   "cell_type": "markdown",
   "metadata": {
    "id": "Z0-_oFwwqAwN"
   },
   "source": [
    "## Часть 2"
   ]
  },
  {
   "cell_type": "markdown",
   "metadata": {
    "id": "HIwDfmrYOMfi"
   },
   "source": [
    "### Задача классификации"
   ]
  },
  {
   "cell_type": "markdown",
   "metadata": {
    "id": "L6DaLniC6MhY",
    "tags": []
   },
   "source": [
    "#### 20 newsgroups\n",
    "Датасет с 18000 новостей, сгруппированных по 20 темам."
   ]
  },
  {
   "cell_type": "code",
   "execution_count": 33,
   "metadata": {
    "colab": {
     "base_uri": "https://localhost:8080/"
    },
    "execution": {
     "iopub.execute_input": "2024-03-26T14:27:10.873051Z",
     "iopub.status.busy": "2024-03-26T14:27:10.872647Z",
     "iopub.status.idle": "2024-03-26T14:27:11.125618Z",
     "shell.execute_reply": "2024-03-26T14:27:11.125030Z",
     "shell.execute_reply.started": "2024-03-26T14:27:10.873031Z"
    },
    "id": "9uS7IJNW6Mhb",
    "outputId": "ebc2f876-92c7-4032-a422-d51b2e3c2c4a",
    "tags": []
   },
   "outputs": [],
   "source": [
    "from sklearn.datasets import fetch_20newsgroups\n",
    "newsgroups_train = fetch_20newsgroups(subset='train')"
   ]
  },
  {
   "cell_type": "code",
   "execution_count": 34,
   "metadata": {
    "colab": {
     "base_uri": "https://localhost:8080/"
    },
    "execution": {
     "iopub.execute_input": "2024-03-26T14:27:11.126976Z",
     "iopub.status.busy": "2024-03-26T14:27:11.126312Z",
     "iopub.status.idle": "2024-03-26T14:27:11.137035Z",
     "shell.execute_reply": "2024-03-26T14:27:11.136410Z",
     "shell.execute_reply.started": "2024-03-26T14:27:11.126939Z"
    },
    "id": "MMbagpJE6Mhh",
    "outputId": "152aa470-abef-47d0-deb1-2bcef6280e07",
    "tags": []
   },
   "outputs": [
    {
     "data": {
      "text/plain": [
       "['alt.atheism',\n",
       " 'comp.graphics',\n",
       " 'comp.os.ms-windows.misc',\n",
       " 'comp.sys.ibm.pc.hardware',\n",
       " 'comp.sys.mac.hardware',\n",
       " 'comp.windows.x',\n",
       " 'misc.forsale',\n",
       " 'rec.autos',\n",
       " 'rec.motorcycles',\n",
       " 'rec.sport.baseball',\n",
       " 'rec.sport.hockey',\n",
       " 'sci.crypt',\n",
       " 'sci.electronics',\n",
       " 'sci.med',\n",
       " 'sci.space',\n",
       " 'soc.religion.christian',\n",
       " 'talk.politics.guns',\n",
       " 'talk.politics.mideast',\n",
       " 'talk.politics.misc',\n",
       " 'talk.religion.misc']"
      ]
     },
     "execution_count": 34,
     "metadata": {},
     "output_type": "execute_result"
    }
   ],
   "source": [
    "newsgroups_train.target_names"
   ]
  },
  {
   "cell_type": "code",
   "execution_count": 35,
   "metadata": {
    "colab": {
     "base_uri": "https://localhost:8080/"
    },
    "execution": {
     "iopub.execute_input": "2024-03-26T14:27:11.138427Z",
     "iopub.status.busy": "2024-03-26T14:27:11.137819Z",
     "iopub.status.idle": "2024-03-26T14:27:11.147832Z",
     "shell.execute_reply": "2024-03-26T14:27:11.147273Z",
     "shell.execute_reply.started": "2024-03-26T14:27:11.138398Z"
    },
    "id": "7QReW1K46Mhn",
    "outputId": "d243da37-1e2a-4a19-e22b-960f369915c7",
    "tags": []
   },
   "outputs": [
    {
     "data": {
      "text/plain": [
       "(11314,)"
      ]
     },
     "execution_count": 35,
     "metadata": {},
     "output_type": "execute_result"
    }
   ],
   "source": [
    "newsgroups_train.filenames.shape"
   ]
  },
  {
   "cell_type": "markdown",
   "metadata": {
    "id": "WZtRIQmNQ4H0"
   },
   "source": [
    "#### Рассмотрим подвыборку"
   ]
  },
  {
   "cell_type": "code",
   "execution_count": 36,
   "metadata": {
    "colab": {
     "base_uri": "https://localhost:8080/"
    },
    "execution": {
     "iopub.execute_input": "2024-03-26T14:27:11.149195Z",
     "iopub.status.busy": "2024-03-26T14:27:11.148675Z",
     "iopub.status.idle": "2024-03-26T14:27:11.389673Z",
     "shell.execute_reply": "2024-03-26T14:27:11.389080Z",
     "shell.execute_reply.started": "2024-03-26T14:27:11.149164Z"
    },
    "id": "OhwuCp5B6Mhz",
    "outputId": "53f9bb20-9762-49b3-f2f2-0327bde7d576",
    "tags": []
   },
   "outputs": [
    {
     "data": {
      "text/plain": [
       "(2034,)"
      ]
     },
     "execution_count": 36,
     "metadata": {},
     "output_type": "execute_result"
    }
   ],
   "source": [
    "categories = ['alt.atheism', 'talk.religion.misc', 'comp.graphics', 'sci.space']\n",
    "\n",
    "newsgroups_train = fetch_20newsgroups(subset='train', categories=categories)\n",
    "\n",
    "newsgroups_train.filenames.shape"
   ]
  },
  {
   "cell_type": "code",
   "execution_count": 37,
   "metadata": {
    "colab": {
     "base_uri": "https://localhost:8080/"
    },
    "execution": {
     "iopub.execute_input": "2024-03-26T14:27:11.390916Z",
     "iopub.status.busy": "2024-03-26T14:27:11.390423Z",
     "iopub.status.idle": "2024-03-26T14:27:11.405509Z",
     "shell.execute_reply": "2024-03-26T14:27:11.404974Z",
     "shell.execute_reply.started": "2024-03-26T14:27:11.390885Z"
    },
    "id": "MOREsv336MiA",
    "outputId": "f91d5c50-4e47-4ba9-cbbe-37acf3df847a",
    "tags": []
   },
   "outputs": [
    {
     "name": "stdout",
     "output_type": "stream",
     "text": [
      "From: rych@festival.ed.ac.uk (R Hawkes)\n",
      "Subject: 3DS: Where did all the texture rules go?\n",
      "Lines: 21\n",
      "\n",
      "Hi,\n",
      "\n",
      "I've noticed that if you only save a model (with all your mapping planes\n",
      "positioned carefully) to a .3DS file that when you reload it after restarting\n",
      "3DS, they are given a default position and orientation.  But if you save\n",
      "to a .PRJ file their positions/orientation are preserved.  Does anyone\n",
      "know why this information is not stored in the .3DS file?  Nothing is\n",
      "explicitly said in the manual about saving texture rules in the .PRJ file. \n",
      "I'd like to be able to read the texture rule information, does anyone have \n",
      "the format for the .PRJ file?\n",
      "\n",
      "Is the .CEL file format available from somewhere?\n",
      "\n",
      "Rych\n",
      "\n",
      "======================================================================\n",
      "Rycharde Hawkes\t\t\t\temail: rych@festival.ed.ac.uk\n",
      "Virtual Environment Laboratory\n",
      "Dept. of Psychology\t\t\tTel  : +44 31 650 3426\n",
      "Univ. of Edinburgh\t\t\tFax  : +44 31 667 0150\n",
      "======================================================================\n",
      "\n"
     ]
    }
   ],
   "source": [
    "print(newsgroups_train.data[0])"
   ]
  },
  {
   "cell_type": "code",
   "execution_count": 38,
   "metadata": {
    "colab": {
     "base_uri": "https://localhost:8080/"
    },
    "execution": {
     "iopub.execute_input": "2024-03-26T14:27:11.406732Z",
     "iopub.status.busy": "2024-03-26T14:27:11.406252Z",
     "iopub.status.idle": "2024-03-26T14:27:11.416144Z",
     "shell.execute_reply": "2024-03-26T14:27:11.415622Z",
     "shell.execute_reply.started": "2024-03-26T14:27:11.406705Z"
    },
    "id": "SBnDG-TN6MiF",
    "outputId": "33bc189f-0161-4287-bf48-e78fcdadd683",
    "tags": []
   },
   "outputs": [
    {
     "data": {
      "text/plain": [
       "array([1, 3, 2, 0, 2, 0, 2, 1, 2, 1])"
      ]
     },
     "execution_count": 38,
     "metadata": {},
     "output_type": "execute_result"
    }
   ],
   "source": [
    "newsgroups_train.target[:10]"
   ]
  },
  {
   "cell_type": "markdown",
   "metadata": {
    "id": "2XlZYpodRYDI"
   },
   "source": [
    "#### TF-IDF(напоминание)"
   ]
  },
  {
   "cell_type": "markdown",
   "metadata": {
    "id": "ohUk2n3jRbNp"
   },
   "source": [
    "$n_{\\mathbb{d}\\mathbb{w}}$ - число вхождений слова $\\mathbb{w}$ в документ $\\mathbb{d}$;<br>\n",
    "$N_{\\mathbb{w}}$ - число документов, содержащих $\\mathbb{w}$;<br>\n",
    "$N$ - число документов; <br><br>\n",
    "\n",
    "$p(\\mathbb{w}, \\mathbb{d}) = N_{\\mathbb{w}} / N$ - вероятность наличия слова $\\mathbb{w}$ в любом документе $\\mathbb{d}$\n",
    "<br>\n",
    "$P(\\mathbb{w}, \\mathbb{d}, n_{\\mathbb{d}\\mathbb{w}}) = (N_{\\mathbb{w}} / N)^{n_{\\mathbb{d}\\mathbb{w}}}$ - вероятность встретить $n_{\\mathbb{d}\\mathbb{w}}$ раз слово $\\mathbb{w}$ в документе $\\mathbb{d}$<br><br>\n",
    "\n",
    "$-\\log{P(\\mathbb{w}, \\mathbb{d}, n_{\\mathbb{d}\\mathbb{w}})} = n_{\\mathbb{d}\\mathbb{w}} \\cdot \\log{(N / N_{\\mathbb{w}})} = TF(\\mathbb{w}, \\mathbb{d}) \\cdot IDF(\\mathbb{w})$<br><br>\n",
    "\n",
    "$TF(\\mathbb{w}, \\mathbb{d}) = n_{\\mathbb{d}\\mathbb{w}}$ - term frequency;<br>\n",
    "$IDF(\\mathbb{w}) = \\log{(N /N_{\\mathbb{w}})}$ - inverted document frequency;"
   ]
  },
  {
   "cell_type": "markdown",
   "metadata": {
    "id": "kQvcMiFH6MiM"
   },
   "source": [
    "#### Давайте векторизуем эти тексты с помощью TF-IDF"
   ]
  },
  {
   "cell_type": "code",
   "execution_count": 39,
   "metadata": {
    "execution": {
     "iopub.execute_input": "2024-03-26T14:27:11.417745Z",
     "iopub.status.busy": "2024-03-26T14:27:11.416862Z",
     "iopub.status.idle": "2024-03-26T14:27:11.428410Z",
     "shell.execute_reply": "2024-03-26T14:27:11.427871Z",
     "shell.execute_reply.started": "2024-03-26T14:27:11.417680Z"
    },
    "id": "98LLAoZO6MiU",
    "tags": []
   },
   "outputs": [],
   "source": [
    "from sklearn.feature_extraction.text import TfidfVectorizer"
   ]
  },
  {
   "cell_type": "markdown",
   "metadata": {
    "id": "baXLU0lj6MiY"
   },
   "source": [
    "#### Некоторые параметры:\n",
    "* input : string {‘filename’, ‘file’, ‘content’}\n",
    "*  lowercase : boolean, default True\n",
    "*  preprocessor : callable or None (default)\n",
    "*  tokenizer : callable or None (default)\n",
    "*  stop_words : string {‘english’}, list, or None (default)\n",
    "*  ngram_range : tuple (min_n, max_n)\n",
    "*  max_df : float in range [0.0, 1.0] or int, default=1.0\n",
    "*  min_df : float in range [0.0, 1.0] or int, default=1\n",
    "*  max_features : int or None, default=None"
   ]
  },
  {
   "cell_type": "markdown",
   "metadata": {
    "id": "O-m81BJxZFwJ"
   },
   "source": [
    "#### Перебор параметров"
   ]
  },
  {
   "cell_type": "code",
   "execution_count": 40,
   "metadata": {
    "colab": {
     "base_uri": "https://localhost:8080/"
    },
    "execution": {
     "iopub.execute_input": "2024-03-26T14:27:11.429720Z",
     "iopub.status.busy": "2024-03-26T14:27:11.429046Z",
     "iopub.status.idle": "2024-03-26T14:27:11.784854Z",
     "shell.execute_reply": "2024-03-26T14:27:11.784208Z",
     "shell.execute_reply.started": "2024-03-26T14:27:11.429683Z"
    },
    "id": "_f7padHL6MiZ",
    "outputId": "a60445fa-ad78-4efb-ad13-51a8a59f5650",
    "tags": []
   },
   "outputs": [
    {
     "data": {
      "text/plain": [
       "(2034, 34118)"
      ]
     },
     "execution_count": 40,
     "metadata": {},
     "output_type": "execute_result"
    }
   ],
   "source": [
    "# lowercase\n",
    "vectorizer = TfidfVectorizer()\n",
    "vectors = vectorizer.fit_transform(newsgroups_train.data)\n",
    "vectors.shape"
   ]
  },
  {
   "cell_type": "code",
   "execution_count": 41,
   "metadata": {
    "execution": {
     "iopub.execute_input": "2024-03-26T14:27:11.786323Z",
     "iopub.status.busy": "2024-03-26T14:27:11.785697Z",
     "iopub.status.idle": "2024-03-26T14:27:12.055456Z",
     "shell.execute_reply": "2024-03-26T14:27:12.054922Z",
     "shell.execute_reply.started": "2024-03-26T14:27:11.786292Z"
    },
    "tags": []
   },
   "outputs": [
    {
     "data": {
      "text/plain": [
       "(1, 34118)"
      ]
     },
     "execution_count": 41,
     "metadata": {},
     "output_type": "execute_result"
    }
   ],
   "source": [
    "vectors.todense()[0][0].shape"
   ]
  },
  {
   "cell_type": "code",
   "execution_count": 42,
   "metadata": {
    "colab": {
     "base_uri": "https://localhost:8080/"
    },
    "execution": {
     "iopub.execute_input": "2024-03-26T14:27:12.056934Z",
     "iopub.status.busy": "2024-03-26T14:27:12.056385Z",
     "iopub.status.idle": "2024-03-26T14:27:12.428098Z",
     "shell.execute_reply": "2024-03-26T14:27:12.427454Z",
     "shell.execute_reply.started": "2024-03-26T14:27:12.056904Z"
    },
    "id": "Nf2s4HCY6Mie",
    "outputId": "159178a7-2cb6-438f-93fd-2532ec410368",
    "tags": []
   },
   "outputs": [
    {
     "data": {
      "text/plain": [
       "(2034, 42307)"
      ]
     },
     "execution_count": 42,
     "metadata": {},
     "output_type": "execute_result"
    }
   ],
   "source": [
    "vectorizer = TfidfVectorizer(lowercase=False)\n",
    "vectors = vectorizer.fit_transform(newsgroups_train.data)\n",
    "vectors.shape"
   ]
  },
  {
   "cell_type": "code",
   "execution_count": 43,
   "metadata": {
    "execution": {
     "iopub.execute_input": "2024-03-26T14:27:12.429388Z",
     "iopub.status.busy": "2024-03-26T14:27:12.428839Z",
     "iopub.status.idle": "2024-03-26T14:27:12.457845Z",
     "shell.execute_reply": "2024-03-26T14:27:12.457301Z",
     "shell.execute_reply.started": "2024-03-26T14:27:12.429358Z"
    },
    "tags": []
   },
   "outputs": [
    {
     "data": {
      "text/plain": [
       "array(['00', '000', '0000', '00000', '000000', '000005102000', '000021',\n",
       "       '000062David42', '0000VEC', '0001'], dtype=object)"
      ]
     },
     "execution_count": 43,
     "metadata": {},
     "output_type": "execute_result"
    }
   ],
   "source": [
    "vectorizer.get_feature_names_out()[:10]"
   ]
  },
  {
   "cell_type": "code",
   "execution_count": 44,
   "metadata": {
    "colab": {
     "base_uri": "https://localhost:8080/"
    },
    "execution": {
     "iopub.execute_input": "2024-03-26T14:27:12.459230Z",
     "iopub.status.busy": "2024-03-26T14:27:12.458612Z",
     "iopub.status.idle": "2024-03-26T14:27:12.786032Z",
     "shell.execute_reply": "2024-03-26T14:27:12.785474Z",
     "shell.execute_reply.started": "2024-03-26T14:27:12.459195Z"
    },
    "id": "AYfpk0ds6Mij",
    "outputId": "a605ac46-771c-44cd-c5c9-0774625740d8",
    "tags": []
   },
   "outputs": [
    {
     "data": {
      "text/plain": [
       "(2034, 9)"
      ]
     },
     "execution_count": 44,
     "metadata": {},
     "output_type": "execute_result"
    }
   ],
   "source": [
    "# min_df, max_df\n",
    "vectorizer = TfidfVectorizer(min_df=0.8) #оставим слова которые встречаются в 80 процентов случаев\n",
    "vectors = vectorizer.fit_transform(newsgroups_train.data)\n",
    "vectors.shape"
   ]
  },
  {
   "cell_type": "code",
   "execution_count": 45,
   "metadata": {
    "execution": {
     "iopub.execute_input": "2024-03-26T14:27:12.787270Z",
     "iopub.status.busy": "2024-03-26T14:27:12.786777Z",
     "iopub.status.idle": "2024-03-26T14:27:12.796897Z",
     "shell.execute_reply": "2024-03-26T14:27:12.796388Z",
     "shell.execute_reply.started": "2024-03-26T14:27:12.787247Z"
    },
    "tags": []
   },
   "outputs": [
    {
     "data": {
      "text/plain": [
       "array(['and', 'from', 'in', 'lines', 'of', 'organization', 'subject',\n",
       "       'the', 'to'], dtype=object)"
      ]
     },
     "execution_count": 45,
     "metadata": {},
     "output_type": "execute_result"
    }
   ],
   "source": [
    "vectorizer.get_feature_names_out()"
   ]
  },
  {
   "cell_type": "code",
   "execution_count": 46,
   "metadata": {
    "colab": {
     "base_uri": "https://localhost:8080/"
    },
    "execution": {
     "iopub.execute_input": "2024-03-26T14:27:12.798264Z",
     "iopub.status.busy": "2024-03-26T14:27:12.797671Z",
     "iopub.status.idle": "2024-03-26T14:27:13.128014Z",
     "shell.execute_reply": "2024-03-26T14:27:13.127370Z",
     "shell.execute_reply.started": "2024-03-26T14:27:12.798242Z"
    },
    "id": "2e_h6c0X6Mim",
    "outputId": "1164d096-e211-478d-cb27-cc782b71690e",
    "tags": []
   },
   "outputs": [
    {
     "data": {
      "text/plain": [
       "(2034, 2391)"
      ]
     },
     "execution_count": 46,
     "metadata": {},
     "output_type": "execute_result"
    }
   ],
   "source": [
    "vectorizer = TfidfVectorizer(min_df=0.01, max_df=0.8) # ограничиваем слова которые встречаются от 1 до 80 проц \n",
    "vectors = vectorizer.fit_transform(newsgroups_train.data)\n",
    "vectors.shape"
   ]
  },
  {
   "cell_type": "code",
   "execution_count": 47,
   "metadata": {
    "execution": {
     "iopub.execute_input": "2024-03-26T14:27:13.131033Z",
     "iopub.status.busy": "2024-03-26T14:27:13.130604Z",
     "iopub.status.idle": "2024-03-26T14:27:13.141096Z",
     "shell.execute_reply": "2024-03-26T14:27:13.140573Z",
     "shell.execute_reply.started": "2024-03-26T14:27:13.131010Z"
    },
    "tags": []
   },
   "outputs": [
    {
     "data": {
      "text/plain": [
       "array(['00', '000', '01', ..., 'zip', 'zoo', 'zoology'], dtype=object)"
      ]
     },
     "execution_count": 47,
     "metadata": {},
     "output_type": "execute_result"
    }
   ],
   "source": [
    "vectorizer.get_feature_names_out()"
   ]
  },
  {
   "cell_type": "code",
   "execution_count": 48,
   "metadata": {
    "colab": {
     "base_uri": "https://localhost:8080/"
    },
    "execution": {
     "iopub.execute_input": "2024-03-26T14:27:13.142939Z",
     "iopub.status.busy": "2024-03-26T14:27:13.142279Z",
     "iopub.status.idle": "2024-03-26T14:27:16.090969Z",
     "shell.execute_reply": "2024-03-26T14:27:16.090409Z",
     "shell.execute_reply.started": "2024-03-26T14:27:13.142906Z"
    },
    "id": "XUhOyx4NihL0",
    "outputId": "c5bdb88a-8a3b-4654-b0b4-9a8a5c79e132",
    "tags": []
   },
   "outputs": [
    {
     "data": {
      "text/plain": [
       "(2034, 1267)"
      ]
     },
     "execution_count": 48,
     "metadata": {},
     "output_type": "execute_result"
    }
   ],
   "source": [
    "# ngram_range - смотрит на частоту n грамм\n",
    "vectorizer = TfidfVectorizer(ngram_range=(1, 5), min_df=0.03, max_df=0.9)\n",
    "vectors = vectorizer.fit_transform(newsgroups_train.data)\n",
    "vectors.shape"
   ]
  },
  {
   "cell_type": "code",
   "execution_count": 49,
   "metadata": {
    "execution": {
     "iopub.execute_input": "2024-03-26T14:27:16.092465Z",
     "iopub.status.busy": "2024-03-26T14:27:16.091821Z",
     "iopub.status.idle": "2024-03-26T14:27:16.105130Z",
     "shell.execute_reply": "2024-03-26T14:27:16.104597Z",
     "shell.execute_reply.started": "2024-03-26T14:27:16.092429Z"
    },
    "tags": []
   },
   "outputs": [
    {
     "data": {
      "text/plain": [
       "array(['000', '10', '100', ..., 'your own', 'yourself', 'zoo'],\n",
       "      dtype=object)"
      ]
     },
     "execution_count": 49,
     "metadata": {},
     "output_type": "execute_result"
    }
   ],
   "source": [
    "vectorizer.get_feature_names_out()"
   ]
  },
  {
   "cell_type": "code",
   "execution_count": 50,
   "metadata": {
    "colab": {
     "base_uri": "https://localhost:8080/",
     "height": 70
    },
    "execution": {
     "iopub.execute_input": "2024-03-26T14:27:16.106561Z",
     "iopub.status.busy": "2024-03-26T14:27:16.105984Z",
     "iopub.status.idle": "2024-03-26T14:27:17.474911Z",
     "shell.execute_reply": "2024-03-26T14:27:17.474330Z",
     "shell.execute_reply.started": "2024-03-26T14:27:16.106533Z"
    },
    "id": "7074cdSF6MjC",
    "outputId": "378752c9-3ae1-436f-d3c5-568363006d90",
    "tags": []
   },
   "outputs": [
    {
     "name": "stderr",
     "output_type": "stream",
     "text": [
      "[nltk_data] Downloading package wordnet to /home/jupyter/nltk_data...\n",
      "[nltk_data]   Package wordnet is already up-to-date!\n"
     ]
    },
    {
     "data": {
      "text/plain": [
       "'oh , think landed miracle work , thirst hunger come conference bird'"
      ]
     },
     "execution_count": 50,
     "metadata": {},
     "output_type": "execute_result"
    }
   ],
   "source": [
    "# стоп-слова, preproc\n",
    "from nltk.corpus import stopwords\n",
    "stopWords = set(stopwords.words('english'))\n",
    "nltk.download('wordnet')\n",
    "wnl = nltk.WordNetLemmatizer()\n",
    "\n",
    "def preproc_nltk(text):\n",
    "    # text = re.sub(f'[{string.punctuation}]', ' ', text)\n",
    "    return ' '.join([wnl.lemmatize(word) for word in word_tokenize(text.lower()) if word not in stopWords])\n",
    "\n",
    "st = \"Oh, I think I ve landed Where there are miracles at work,  For the thirst and for the hunger Come the conference of birds\"\n",
    "preproc_nltk(st)"
   ]
  },
  {
   "cell_type": "code",
   "execution_count": 51,
   "metadata": {
    "colab": {
     "base_uri": "https://localhost:8080/"
    },
    "execution": {
     "iopub.execute_input": "2024-03-26T14:27:17.476359Z",
     "iopub.status.busy": "2024-03-26T14:27:17.475731Z",
     "iopub.status.idle": "2024-03-26T14:27:22.737341Z",
     "shell.execute_reply": "2024-03-26T14:27:22.736650Z",
     "shell.execute_reply.started": "2024-03-26T14:27:17.476326Z"
    },
    "id": "LIW3hCSy6MjX",
    "outputId": "338c71af-0740-4c8f-c058-684dd087ad97",
    "tags": []
   },
   "outputs": [
    {
     "name": "stdout",
     "output_type": "stream",
     "text": [
      "CPU times: user 5.27 s, sys: 25.9 ms, total: 5.29 s\n",
      "Wall time: 5.25 s\n"
     ]
    }
   ],
   "source": [
    "%%time\n",
    "vectorizer = TfidfVectorizer(preprocessor=preproc_nltk)\n",
    "vectors = vectorizer.fit_transform(newsgroups_train.data)"
   ]
  },
  {
   "cell_type": "code",
   "execution_count": 52,
   "metadata": {
    "colab": {
     "base_uri": "https://localhost:8080/",
     "height": 35
    },
    "execution": {
     "iopub.execute_input": "2024-03-26T14:27:22.738952Z",
     "iopub.status.busy": "2024-03-26T14:27:22.738250Z",
     "iopub.status.idle": "2024-03-26T14:27:23.177105Z",
     "shell.execute_reply": "2024-03-26T14:27:23.176518Z",
     "shell.execute_reply.started": "2024-03-26T14:27:22.738919Z"
    },
    "id": "lUmyAzJEB1SU",
    "outputId": "f7b9009d-14f0-4436-e2e5-b7082f7aa6b5",
    "tags": []
   },
   "outputs": [
    {
     "name": "stderr",
     "output_type": "stream",
     "text": [
      "/usr/local/lib/python3.10/dist-packages/spacy/util.py:1719: UserWarning: [W111] Jupyter notebook detected: if using `prefer_gpu()` or `require_gpu()`, include it in the same cell right before `spacy.load()` to ensure that the model is loaded on the correct device. More information: http://spacy.io/usage/v3#jupyter-notebook-gpu\n",
      "  warnings.warn(Warnings.W111)\n"
     ]
    },
    {
     "data": {
      "text/plain": [
       "'oh , I think I land miracle work ,   thirst hunger come conference bird'"
      ]
     },
     "execution_count": 52,
     "metadata": {},
     "output_type": "execute_result"
    }
   ],
   "source": [
    "# preproc_spacy\n",
    "nlp = spacy.load(\"en_core_web_sm\")\n",
    "texts = newsgroups_train.data.copy()\n",
    "\n",
    "def preproc_spacy(text):\n",
    "    spacy_results = nlp(text)\n",
    "    return ' '.join([token.lemma_ for token in spacy_results if token.lemma_ not in stopWords])\n",
    "preproc_spacy(st)"
   ]
  },
  {
   "cell_type": "code",
   "execution_count": 53,
   "metadata": {
    "execution": {
     "iopub.execute_input": "2024-03-26T14:27:23.178272Z",
     "iopub.status.busy": "2024-03-26T14:27:23.177922Z",
     "iopub.status.idle": "2024-03-26T14:27:23.193568Z",
     "shell.execute_reply": "2024-03-26T14:27:23.193020Z",
     "shell.execute_reply.started": "2024-03-26T14:27:23.178244Z"
    },
    "tags": []
   },
   "outputs": [
    {
     "data": {
      "text/plain": [
       "2034"
      ]
     },
     "execution_count": 53,
     "metadata": {},
     "output_type": "execute_result"
    }
   ],
   "source": [
    "len(texts)"
   ]
  },
  {
   "cell_type": "code",
   "execution_count": 54,
   "metadata": {
    "colab": {
     "base_uri": "https://localhost:8080/"
    },
    "execution": {
     "iopub.execute_input": "2024-03-26T14:27:23.194927Z",
     "iopub.status.busy": "2024-03-26T14:27:23.194339Z",
     "iopub.status.idle": "2024-03-26T14:27:43.621871Z",
     "shell.execute_reply": "2024-03-26T14:27:43.621258Z",
     "shell.execute_reply.started": "2024-03-26T14:27:23.194892Z"
    },
    "id": "0C5Ent0nG5zj",
    "outputId": "1af1abe9-bc09-480f-ced0-5caf77a7e0d7",
    "tags": []
   },
   "outputs": [
    {
     "name": "stdout",
     "output_type": "stream",
     "text": [
      "CPU times: user 6.23 s, sys: 533 ms, total: 6.76 s\n",
      "Wall time: 20.4 s\n"
     ]
    }
   ],
   "source": [
    "%%time\n",
    "new_texts = []\n",
    "for doc in nlp.pipe(texts, batch_size=32, n_process=3, disable=[\"parser\", \"ner\"]):\n",
    "    new_texts.append(' '.join([tok.lemma_ for tok in doc if tok.lemma not in stopWords]))\n",
    "vectorizer = TfidfVectorizer()\n",
    "vectors = vectorizer.fit_transform(new_texts)"
   ]
  },
  {
   "cell_type": "code",
   "execution_count": 55,
   "metadata": {
    "execution": {
     "iopub.execute_input": "2024-03-26T14:27:43.623555Z",
     "iopub.status.busy": "2024-03-26T14:27:43.622966Z",
     "iopub.status.idle": "2024-03-26T14:27:43.631605Z",
     "shell.execute_reply": "2024-03-26T14:27:43.631087Z",
     "shell.execute_reply.started": "2024-03-26T14:27:43.623520Z"
    },
    "tags": []
   },
   "outputs": [],
   "source": [
    "# print(newsgroups_train.data[0])"
   ]
  },
  {
   "cell_type": "code",
   "execution_count": 56,
   "metadata": {
    "execution": {
     "iopub.execute_input": "2024-03-26T14:27:43.632896Z",
     "iopub.status.busy": "2024-03-26T14:27:43.632287Z",
     "iopub.status.idle": "2024-03-26T14:27:43.639523Z",
     "shell.execute_reply": "2024-03-26T14:27:43.638997Z",
     "shell.execute_reply.started": "2024-03-26T14:27:43.632874Z"
    },
    "tags": []
   },
   "outputs": [],
   "source": [
    "# print(new_texts[0])"
   ]
  },
  {
   "cell_type": "code",
   "execution_count": 57,
   "metadata": {
    "execution": {
     "iopub.execute_input": "2024-03-26T14:27:43.640866Z",
     "iopub.status.busy": "2024-03-26T14:27:43.640184Z",
     "iopub.status.idle": "2024-03-26T14:27:43.656827Z",
     "shell.execute_reply": "2024-03-26T14:27:43.656310Z",
     "shell.execute_reply.started": "2024-03-26T14:27:43.640834Z"
    },
    "tags": []
   },
   "outputs": [],
   "source": [
    "# len(new_texts)"
   ]
  },
  {
   "cell_type": "markdown",
   "metadata": {
    "id": "0lXAPHZA6Mj0"
   },
   "source": [
    "#### Итоговая модель"
   ]
  },
  {
   "cell_type": "code",
   "execution_count": 58,
   "metadata": {
    "colab": {
     "base_uri": "https://localhost:8080/"
    },
    "execution": {
     "iopub.execute_input": "2024-03-26T14:27:43.658100Z",
     "iopub.status.busy": "2024-03-26T14:27:43.657507Z",
     "iopub.status.idle": "2024-03-26T14:27:46.141518Z",
     "shell.execute_reply": "2024-03-26T14:27:46.140946Z",
     "shell.execute_reply.started": "2024-03-26T14:27:43.658070Z"
    },
    "id": "uZYcRkQ86Mj1",
    "outputId": "72392257-a3e9-405a-9238-169e7c0d115c",
    "tags": []
   },
   "outputs": [
    {
     "data": {
      "text/plain": [
       "array(['000', 'au', 'christ', 'engineering', 'human', 'look', 'of this',\n",
       "       'report', 'tell', 'universe'], dtype=object)"
      ]
     },
     "execution_count": 58,
     "metadata": {},
     "output_type": "execute_result"
    }
   ],
   "source": [
    "vectorizer = TfidfVectorizer(ngram_range=(1, 3), max_df=0.5, max_features=1000) \n",
    "vectors = vectorizer.fit_transform(new_texts)\n",
    "vectorizer.get_feature_names_out()[::100]"
   ]
  },
  {
   "cell_type": "code",
   "execution_count": 59,
   "metadata": {
    "execution": {
     "iopub.execute_input": "2024-03-26T14:27:46.142829Z",
     "iopub.status.busy": "2024-03-26T14:27:46.142340Z",
     "iopub.status.idle": "2024-03-26T14:27:46.158184Z",
     "shell.execute_reply": "2024-03-26T14:27:46.157665Z",
     "shell.execute_reply.started": "2024-03-26T14:27:46.142801Z"
    },
    "tags": []
   },
   "outputs": [
    {
     "data": {
      "text/plain": [
       "(2034, 1000)"
      ]
     },
     "execution_count": 59,
     "metadata": {},
     "output_type": "execute_result"
    }
   ],
   "source": [
    "vectors.shape"
   ]
  },
  {
   "cell_type": "code",
   "execution_count": 60,
   "metadata": {
    "execution": {
     "iopub.execute_input": "2024-03-26T14:27:46.159178Z",
     "iopub.status.busy": "2024-03-26T14:27:46.158819Z",
     "iopub.status.idle": "2024-03-26T14:27:46.178022Z",
     "shell.execute_reply": "2024-03-26T14:27:46.177451Z",
     "shell.execute_reply.started": "2024-03-26T14:27:46.159152Z"
    },
    "tags": []
   },
   "outputs": [],
   "source": [
    "# 2034 статей, по 1000 фичей на каждую"
   ]
  },
  {
   "cell_type": "markdown",
   "metadata": {
    "id": "TQHTlj3q6Mj6"
   },
   "source": [
    "#### Можем посмотреть на косинусную меру между векторами"
   ]
  },
  {
   "cell_type": "code",
   "execution_count": 61,
   "metadata": {
    "execution": {
     "iopub.execute_input": "2024-03-26T14:27:46.179151Z",
     "iopub.status.busy": "2024-03-26T14:27:46.178670Z",
     "iopub.status.idle": "2024-03-26T14:27:46.195426Z",
     "shell.execute_reply": "2024-03-26T14:27:46.194944Z",
     "shell.execute_reply.started": "2024-03-26T14:27:46.179126Z"
    },
    "tags": []
   },
   "outputs": [],
   "source": [
    "# vectors.todense()[0]"
   ]
  },
  {
   "cell_type": "code",
   "execution_count": 62,
   "metadata": {
    "colab": {
     "base_uri": "https://localhost:8080/"
    },
    "execution": {
     "iopub.execute_input": "2024-03-26T14:27:46.198350Z",
     "iopub.status.busy": "2024-03-26T14:27:46.197827Z",
     "iopub.status.idle": "2024-03-26T14:27:46.209250Z",
     "shell.execute_reply": "2024-03-26T14:27:46.208655Z",
     "shell.execute_reply.started": "2024-03-26T14:27:46.198326Z"
    },
    "id": "VA8Fn5I46Mi0",
    "outputId": "632e1709-57eb-416c-f579-eaad32195408",
    "tags": []
   },
   "outputs": [
    {
     "data": {
      "text/plain": [
       "53"
      ]
     },
     "execution_count": 62,
     "metadata": {},
     "output_type": "execute_result"
    }
   ],
   "source": [
    "vector = vectors.todense()[0]\n",
    "(vector != 0).sum()"
   ]
  },
  {
   "cell_type": "code",
   "execution_count": 63,
   "metadata": {
    "colab": {
     "base_uri": "https://localhost:8080/"
    },
    "execution": {
     "iopub.execute_input": "2024-03-26T14:27:46.211027Z",
     "iopub.status.busy": "2024-03-26T14:27:46.210593Z",
     "iopub.status.idle": "2024-03-26T14:27:46.220765Z",
     "shell.execute_reply": "2024-03-26T14:27:46.220251Z",
     "shell.execute_reply.started": "2024-03-26T14:27:46.211000Z"
    },
    "id": "Jo4fKtAXqCl-",
    "outputId": "81b8f469-e889-4c92-942e-63f0a526311d",
    "tags": []
   },
   "outputs": [
    {
     "data": {
      "text/plain": [
       "(1, 1000)"
      ]
     },
     "execution_count": 63,
     "metadata": {},
     "output_type": "execute_result"
    }
   ],
   "source": [
    "vector.shape"
   ]
  },
  {
   "cell_type": "code",
   "execution_count": 64,
   "metadata": {
    "execution": {
     "iopub.execute_input": "2024-03-26T14:27:46.221922Z",
     "iopub.status.busy": "2024-03-26T14:27:46.221494Z",
     "iopub.status.idle": "2024-03-26T14:27:46.230146Z",
     "shell.execute_reply": "2024-03-26T14:27:46.229565Z",
     "shell.execute_reply.started": "2024-03-26T14:27:46.221894Z"
    }
   },
   "outputs": [],
   "source": [
    "import numpy as np"
   ]
  },
  {
   "cell_type": "code",
   "execution_count": 65,
   "metadata": {
    "colab": {
     "base_uri": "https://localhost:8080/"
    },
    "execution": {
     "iopub.execute_input": "2024-03-26T14:27:46.231282Z",
     "iopub.status.busy": "2024-03-26T14:27:46.230981Z",
     "iopub.status.idle": "2024-03-26T14:27:46.265403Z",
     "shell.execute_reply": "2024-03-26T14:27:46.264775Z",
     "shell.execute_reply.started": "2024-03-26T14:27:46.231256Z"
    },
    "id": "kweWqI8ztDwC",
    "outputId": "b729a5b3-fd07-4bc5-99fe-75909a02cd8d",
    "tags": []
   },
   "outputs": [
    {
     "data": {
      "text/plain": [
       "89.84660766961652"
      ]
     },
     "execution_count": 65,
     "metadata": {},
     "output_type": "execute_result"
    }
   ],
   "source": [
    "np.mean(list(map( lambda x: (x != 0).sum(), vectors.todense()) ))"
   ]
  },
  {
   "cell_type": "code",
   "execution_count": 66,
   "metadata": {
    "colab": {
     "base_uri": "https://localhost:8080/"
    },
    "execution": {
     "iopub.execute_input": "2024-03-26T14:27:46.266686Z",
     "iopub.status.busy": "2024-03-26T14:27:46.266250Z",
     "iopub.status.idle": "2024-03-26T14:27:46.279410Z",
     "shell.execute_reply": "2024-03-26T14:27:46.278846Z",
     "shell.execute_reply.started": "2024-03-26T14:27:46.266664Z"
    },
    "id": "VsVQhR9y6Mj8",
    "outputId": "378d430b-f6d2-4f76-e2d9-bda51d8479de",
    "tags": []
   },
   "outputs": [
    {
     "data": {
      "text/plain": [
       "scipy.sparse._csr.csr_matrix"
      ]
     },
     "execution_count": 66,
     "metadata": {},
     "output_type": "execute_result"
    }
   ],
   "source": [
    "from numpy.linalg import norm\n",
    "\n",
    "type(vectors)"
   ]
  },
  {
   "cell_type": "code",
   "execution_count": 67,
   "metadata": {
    "colab": {
     "base_uri": "https://localhost:8080/"
    },
    "execution": {
     "iopub.execute_input": "2024-03-26T14:27:46.280628Z",
     "iopub.status.busy": "2024-03-26T14:27:46.280112Z",
     "iopub.status.idle": "2024-03-26T14:27:46.297517Z",
     "shell.execute_reply": "2024-03-26T14:27:46.296958Z",
     "shell.execute_reply.started": "2024-03-26T14:27:46.280608Z"
    },
    "id": "tS2G0ZZC6MkN",
    "outputId": "7dc5ec75-cf8e-4c15-a759-631dc63c6c57",
    "tags": []
   },
   "outputs": [
    {
     "data": {
      "text/plain": [
       "(2034, 1000)"
      ]
     },
     "execution_count": 67,
     "metadata": {},
     "output_type": "execute_result"
    }
   ],
   "source": [
    "dense_vectors = vectors.todense()\n",
    "dense_vectors.shape"
   ]
  },
  {
   "cell_type": "code",
   "execution_count": 68,
   "metadata": {
    "execution": {
     "iopub.execute_input": "2024-03-26T14:27:46.298774Z",
     "iopub.status.busy": "2024-03-26T14:27:46.298249Z",
     "iopub.status.idle": "2024-03-26T14:27:46.310972Z",
     "shell.execute_reply": "2024-03-26T14:27:46.310463Z",
     "shell.execute_reply.started": "2024-03-26T14:27:46.298752Z"
    },
    "id": "LGgb5aP76MkU",
    "tags": []
   },
   "outputs": [],
   "source": [
    "def cosine_sim(v1, v2):\n",
    "    # v1, v2 (1 x dim)\n",
    "    return np.array( v1 @ v2.T / (norm(v1) * norm(v2)) )[0][0]"
   ]
  },
  {
   "cell_type": "code",
   "execution_count": 69,
   "metadata": {
    "colab": {
     "base_uri": "https://localhost:8080/"
    },
    "execution": {
     "iopub.execute_input": "2024-03-26T14:27:46.312265Z",
     "iopub.status.busy": "2024-03-26T14:27:46.311872Z",
     "iopub.status.idle": "2024-03-26T14:27:46.321094Z",
     "shell.execute_reply": "2024-03-26T14:27:46.320617Z",
     "shell.execute_reply.started": "2024-03-26T14:27:46.312244Z"
    },
    "id": "l_FrKM6k6MkY",
    "outputId": "462e7b13-1aa4-4506-e605-49feaf5ab150",
    "tags": []
   },
   "outputs": [
    {
     "data": {
      "text/plain": [
       "1.0"
      ]
     },
     "execution_count": 69,
     "metadata": {},
     "output_type": "execute_result"
    }
   ],
   "source": [
    "cosine_sim(dense_vectors[0], dense_vectors[0])"
   ]
  },
  {
   "cell_type": "code",
   "execution_count": 70,
   "metadata": {
    "execution": {
     "iopub.execute_input": "2024-03-26T14:27:46.322290Z",
     "iopub.status.busy": "2024-03-26T14:27:46.321838Z",
     "iopub.status.idle": "2024-03-26T14:27:46.340737Z",
     "shell.execute_reply": "2024-03-26T14:27:46.340183Z",
     "shell.execute_reply.started": "2024-03-26T14:27:46.322271Z"
    },
    "tags": []
   },
   "outputs": [
    {
     "data": {
      "text/plain": [
       "0.04179695013654135"
      ]
     },
     "execution_count": 70,
     "metadata": {},
     "output_type": "execute_result"
    }
   ],
   "source": [
    "cosine_sim(dense_vectors[0], dense_vectors[1])"
   ]
  },
  {
   "cell_type": "code",
   "execution_count": 71,
   "metadata": {
    "execution": {
     "iopub.execute_input": "2024-03-26T14:27:46.341978Z",
     "iopub.status.busy": "2024-03-26T14:27:46.341461Z",
     "iopub.status.idle": "2024-03-26T14:27:46.350720Z",
     "shell.execute_reply": "2024-03-26T14:27:46.350179Z",
     "shell.execute_reply.started": "2024-03-26T14:27:46.341949Z"
    },
    "tags": []
   },
   "outputs": [
    {
     "data": {
      "text/plain": [
       "2034"
      ]
     },
     "execution_count": 71,
     "metadata": {},
     "output_type": "execute_result"
    }
   ],
   "source": [
    "len(dense_vectors)"
   ]
  },
  {
   "cell_type": "code",
   "execution_count": 72,
   "metadata": {
    "execution": {
     "iopub.execute_input": "2024-03-26T14:27:46.351992Z",
     "iopub.status.busy": "2024-03-26T14:27:46.351471Z",
     "iopub.status.idle": "2024-03-26T14:27:46.362107Z",
     "shell.execute_reply": "2024-03-26T14:27:46.361549Z",
     "shell.execute_reply.started": "2024-03-26T14:27:46.351970Z"
    },
    "id": "L1XF-isH6Mkh",
    "tags": []
   },
   "outputs": [],
   "source": [
    "cosines = []\n",
    "for i in range(10):\n",
    "    cosines.append(cosine_sim(dense_vectors[0], dense_vectors[i]))"
   ]
  },
  {
   "cell_type": "code",
   "execution_count": 73,
   "metadata": {
    "colab": {
     "base_uri": "https://localhost:8080/"
    },
    "execution": {
     "iopub.execute_input": "2024-03-26T14:27:46.363527Z",
     "iopub.status.busy": "2024-03-26T14:27:46.362911Z",
     "iopub.status.idle": "2024-03-26T14:27:46.373527Z",
     "shell.execute_reply": "2024-03-26T14:27:46.372988Z",
     "shell.execute_reply.started": "2024-03-26T14:27:46.363496Z"
    },
    "id": "ODwgYEbe6Mkl",
    "outputId": "b6959653-9dea-438a-9590-9c2afedceab4",
    "tags": []
   },
   "outputs": [
    {
     "data": {
      "text/plain": [
       "[1.0,\n",
       " 0.04179695013654135,\n",
       " 0.005853505843119352,\n",
       " 0.09746465648148847,\n",
       " 0.07043015326977196,\n",
       " 0.06728662702019514,\n",
       " 0.03342657081720751,\n",
       " 0.22795821101088426,\n",
       " 0.03155621416898374,\n",
       " 0.06911096762303248]"
      ]
     },
     "execution_count": 73,
     "metadata": {},
     "output_type": "execute_result"
    }
   ],
   "source": [
    "# [1, 3, 2, 0, 2, 0, 2, 1, 2, 1] - темы для статей\n",
    "cosines"
   ]
  },
  {
   "cell_type": "markdown",
   "metadata": {
    "id": "SRZyJP3c6Mkq"
   },
   "source": [
    "#### Обучим любую известную модель на полученных признаках"
   ]
  },
  {
   "cell_type": "code",
   "execution_count": 74,
   "metadata": {
    "colab": {
     "base_uri": "https://localhost:8080/"
    },
    "execution": {
     "iopub.execute_input": "2024-03-26T14:27:46.374956Z",
     "iopub.status.busy": "2024-03-26T14:27:46.374299Z",
     "iopub.status.idle": "2024-03-26T14:27:46.396294Z",
     "shell.execute_reply": "2024-03-26T14:27:46.395690Z",
     "shell.execute_reply.started": "2024-03-26T14:27:46.374924Z"
    },
    "id": "4RDfl72A6Mks",
    "outputId": "881d3b15-aa8b-479b-ce66-a06e91e47824",
    "tags": []
   },
   "outputs": [
    {
     "data": {
      "text/plain": [
       "((1627,), (407,))"
      ]
     },
     "execution_count": 74,
     "metadata": {},
     "output_type": "execute_result"
    }
   ],
   "source": [
    "from sklearn.model_selection import train_test_split\n",
    "from sklearn.metrics import accuracy_score\n",
    "from sklearn import svm\n",
    "from sklearn.linear_model import SGDClassifier\n",
    "\n",
    "X_train, X_test, y_train, y_test= train_test_split(dense_vectors, newsgroups_train.target, test_size=0.2, random_state=0)\n",
    "y_train.shape, y_test.shape"
   ]
  },
  {
   "cell_type": "code",
   "execution_count": 75,
   "metadata": {
    "execution": {
     "iopub.execute_input": "2024-03-26T14:27:46.397689Z",
     "iopub.status.busy": "2024-03-26T14:27:46.397077Z",
     "iopub.status.idle": "2024-03-26T14:27:46.406655Z",
     "shell.execute_reply": "2024-03-26T14:27:46.406084Z",
     "shell.execute_reply.started": "2024-03-26T14:27:46.397661Z"
    },
    "tags": []
   },
   "outputs": [],
   "source": [
    "X_train = np.asarray(X_train)\n",
    "y_train = np.asarray(y_train)\n",
    "\n",
    "X_test = np.asarray(X_test)\n",
    "y_test = np.asarray(y_test)"
   ]
  },
  {
   "cell_type": "code",
   "execution_count": 76,
   "metadata": {
    "colab": {
     "base_uri": "https://localhost:8080/"
    },
    "execution": {
     "iopub.execute_input": "2024-03-26T14:27:46.407919Z",
     "iopub.status.busy": "2024-03-26T14:27:46.407447Z",
     "iopub.status.idle": "2024-03-26T14:27:47.526653Z",
     "shell.execute_reply": "2024-03-26T14:27:47.525983Z",
     "shell.execute_reply.started": "2024-03-26T14:27:46.407894Z"
    },
    "id": "vjfwduNp6Mlo",
    "outputId": "8d86a9ea-2a38-487a-8147-1b2d6f5c7ab6",
    "tags": []
   },
   "outputs": [
    {
     "name": "stdout",
     "output_type": "stream",
     "text": [
      "CPU times: user 1.11 s, sys: 0 ns, total: 1.11 s\n",
      "Wall time: 1.11 s\n"
     ]
    },
    {
     "data": {
      "text/html": [
       "<style>#sk-container-id-1 {color: black;background-color: white;}#sk-container-id-1 pre{padding: 0;}#sk-container-id-1 div.sk-toggleable {background-color: white;}#sk-container-id-1 label.sk-toggleable__label {cursor: pointer;display: block;width: 100%;margin-bottom: 0;padding: 0.3em;box-sizing: border-box;text-align: center;}#sk-container-id-1 label.sk-toggleable__label-arrow:before {content: \"▸\";float: left;margin-right: 0.25em;color: #696969;}#sk-container-id-1 label.sk-toggleable__label-arrow:hover:before {color: black;}#sk-container-id-1 div.sk-estimator:hover label.sk-toggleable__label-arrow:before {color: black;}#sk-container-id-1 div.sk-toggleable__content {max-height: 0;max-width: 0;overflow: hidden;text-align: left;background-color: #f0f8ff;}#sk-container-id-1 div.sk-toggleable__content pre {margin: 0.2em;color: black;border-radius: 0.25em;background-color: #f0f8ff;}#sk-container-id-1 input.sk-toggleable__control:checked~div.sk-toggleable__content {max-height: 200px;max-width: 100%;overflow: auto;}#sk-container-id-1 input.sk-toggleable__control:checked~label.sk-toggleable__label-arrow:before {content: \"▾\";}#sk-container-id-1 div.sk-estimator input.sk-toggleable__control:checked~label.sk-toggleable__label {background-color: #d4ebff;}#sk-container-id-1 div.sk-label input.sk-toggleable__control:checked~label.sk-toggleable__label {background-color: #d4ebff;}#sk-container-id-1 input.sk-hidden--visually {border: 0;clip: rect(1px 1px 1px 1px);clip: rect(1px, 1px, 1px, 1px);height: 1px;margin: -1px;overflow: hidden;padding: 0;position: absolute;width: 1px;}#sk-container-id-1 div.sk-estimator {font-family: monospace;background-color: #f0f8ff;border: 1px dotted black;border-radius: 0.25em;box-sizing: border-box;margin-bottom: 0.5em;}#sk-container-id-1 div.sk-estimator:hover {background-color: #d4ebff;}#sk-container-id-1 div.sk-parallel-item::after {content: \"\";width: 100%;border-bottom: 1px solid gray;flex-grow: 1;}#sk-container-id-1 div.sk-label:hover label.sk-toggleable__label {background-color: #d4ebff;}#sk-container-id-1 div.sk-serial::before {content: \"\";position: absolute;border-left: 1px solid gray;box-sizing: border-box;top: 0;bottom: 0;left: 50%;z-index: 0;}#sk-container-id-1 div.sk-serial {display: flex;flex-direction: column;align-items: center;background-color: white;padding-right: 0.2em;padding-left: 0.2em;position: relative;}#sk-container-id-1 div.sk-item {position: relative;z-index: 1;}#sk-container-id-1 div.sk-parallel {display: flex;align-items: stretch;justify-content: center;background-color: white;position: relative;}#sk-container-id-1 div.sk-item::before, #sk-container-id-1 div.sk-parallel-item::before {content: \"\";position: absolute;border-left: 1px solid gray;box-sizing: border-box;top: 0;bottom: 0;left: 50%;z-index: -1;}#sk-container-id-1 div.sk-parallel-item {display: flex;flex-direction: column;z-index: 1;position: relative;background-color: white;}#sk-container-id-1 div.sk-parallel-item:first-child::after {align-self: flex-end;width: 50%;}#sk-container-id-1 div.sk-parallel-item:last-child::after {align-self: flex-start;width: 50%;}#sk-container-id-1 div.sk-parallel-item:only-child::after {width: 0;}#sk-container-id-1 div.sk-dashed-wrapped {border: 1px dashed gray;margin: 0 0.4em 0.5em 0.4em;box-sizing: border-box;padding-bottom: 0.4em;background-color: white;}#sk-container-id-1 div.sk-label label {font-family: monospace;font-weight: bold;display: inline-block;line-height: 1.2em;}#sk-container-id-1 div.sk-label-container {text-align: center;}#sk-container-id-1 div.sk-container {/* jupyter's `normalize.less` sets `[hidden] { display: none; }` but bootstrap.min.css set `[hidden] { display: none !important; }` so we also need the `!important` here to be able to override the default hidden behavior on the sphinx rendered scikit-learn.org. See: https://github.com/scikit-learn/scikit-learn/issues/21755 */display: inline-block !important;position: relative;}#sk-container-id-1 div.sk-text-repr-fallback {display: none;}</style><div id=\"sk-container-id-1\" class=\"sk-top-container\"><div class=\"sk-text-repr-fallback\"><pre>SVC()</pre><b>In a Jupyter environment, please rerun this cell to show the HTML representation or trust the notebook. <br />On GitHub, the HTML representation is unable to render, please try loading this page with nbviewer.org.</b></div><div class=\"sk-container\" hidden><div class=\"sk-item\"><div class=\"sk-estimator sk-toggleable\"><input class=\"sk-toggleable__control sk-hidden--visually\" id=\"sk-estimator-id-1\" type=\"checkbox\" checked><label for=\"sk-estimator-id-1\" class=\"sk-toggleable__label sk-toggleable__label-arrow\">SVC</label><div class=\"sk-toggleable__content\"><pre>SVC()</pre></div></div></div></div></div>"
      ],
      "text/plain": [
       "SVC()"
      ]
     },
     "execution_count": 76,
     "metadata": {},
     "output_type": "execute_result"
    }
   ],
   "source": [
    "%%time\n",
    "svc = svm.SVC()\n",
    "svc.fit(X_train, y_train)"
   ]
  },
  {
   "cell_type": "code",
   "execution_count": 77,
   "metadata": {
    "colab": {
     "base_uri": "https://localhost:8080/"
    },
    "execution": {
     "iopub.execute_input": "2024-03-26T14:27:47.528127Z",
     "iopub.status.busy": "2024-03-26T14:27:47.527523Z",
     "iopub.status.idle": "2024-03-26T14:27:47.870289Z",
     "shell.execute_reply": "2024-03-26T14:27:47.869695Z",
     "shell.execute_reply.started": "2024-03-26T14:27:47.528096Z"
    },
    "id": "N6Evwipx6Mlv",
    "outputId": "943c6663-6329-4ad4-d040-1f54b4ea80f7",
    "tags": []
   },
   "outputs": [
    {
     "data": {
      "text/plain": [
       "0.9262899262899262"
      ]
     },
     "execution_count": 77,
     "metadata": {},
     "output_type": "execute_result"
    }
   ],
   "source": [
    "accuracy_score(y_test, svc.predict(X_test))"
   ]
  },
  {
   "cell_type": "code",
   "execution_count": 78,
   "metadata": {
    "colab": {
     "base_uri": "https://localhost:8080/"
    },
    "execution": {
     "iopub.execute_input": "2024-03-26T14:27:47.871415Z",
     "iopub.status.busy": "2024-03-26T14:27:47.871037Z",
     "iopub.status.idle": "2024-03-26T14:27:48.145919Z",
     "shell.execute_reply": "2024-03-26T14:27:48.145084Z",
     "shell.execute_reply.started": "2024-03-26T14:27:47.871385Z"
    },
    "id": "6EBZRbXT6Mly",
    "outputId": "1b992f83-1c25-4e3d-f536-b284d660e1e4",
    "tags": []
   },
   "outputs": [
    {
     "data": {
      "text/plain": [
       "0.9213759213759214"
      ]
     },
     "execution_count": 78,
     "metadata": {},
     "output_type": "execute_result"
    }
   ],
   "source": [
    "sgd = SGDClassifier()\n",
    "sgd.fit(X_train, y_train)\n",
    "accuracy_score(y_test, sgd.predict(X_test))"
   ]
  },
  {
   "cell_type": "markdown",
   "metadata": {
    "id": "i5OAwBJ0LuPb"
   },
   "source": [
    "### Embeddings"
   ]
  },
  {
   "cell_type": "code",
   "execution_count": 79,
   "metadata": {
    "execution": {
     "iopub.execute_input": "2024-03-26T14:27:48.149563Z",
     "iopub.status.busy": "2024-03-26T14:27:48.148281Z",
     "iopub.status.idle": "2024-03-26T14:28:09.709117Z",
     "shell.execute_reply": "2024-03-26T14:28:09.708500Z",
     "shell.execute_reply.started": "2024-03-26T14:27:48.149530Z"
    },
    "id": "SKLGAYPvPJcJ",
    "tags": []
   },
   "outputs": [],
   "source": [
    "import gensim.downloader as api\n",
    "embeddings_pretrained = api.load('glove-twitter-25')"
   ]
  },
  {
   "cell_type": "code",
   "execution_count": 80,
   "metadata": {
    "execution": {
     "iopub.execute_input": "2024-03-26T14:28:09.710386Z",
     "iopub.status.busy": "2024-03-26T14:28:09.709919Z",
     "iopub.status.idle": "2024-03-26T14:28:09.721513Z",
     "shell.execute_reply": "2024-03-26T14:28:09.720952Z",
     "shell.execute_reply.started": "2024-03-26T14:28:09.710356Z"
    }
   },
   "outputs": [],
   "source": [
    "from gensim.models import Word2Vec"
   ]
  },
  {
   "cell_type": "code",
   "execution_count": 81,
   "metadata": {
    "execution": {
     "iopub.execute_input": "2024-03-26T14:28:09.722830Z",
     "iopub.status.busy": "2024-03-26T14:28:09.722262Z",
     "iopub.status.idle": "2024-03-26T14:28:14.579672Z",
     "shell.execute_reply": "2024-03-26T14:28:14.579085Z",
     "shell.execute_reply.started": "2024-03-26T14:28:09.722805Z"
    }
   },
   "outputs": [],
   "source": [
    "proc_words = [preproc_nltk(text).split() for text in newsgroups_train.data]"
   ]
  },
  {
   "cell_type": "code",
   "execution_count": 82,
   "metadata": {
    "execution": {
     "iopub.execute_input": "2024-03-26T14:28:14.581290Z",
     "iopub.status.busy": "2024-03-26T14:28:14.580656Z",
     "iopub.status.idle": "2024-03-26T14:28:14.588243Z",
     "shell.execute_reply": "2024-03-26T14:28:14.587763Z",
     "shell.execute_reply.started": "2024-03-26T14:28:14.581257Z"
    },
    "tags": []
   },
   "outputs": [],
   "source": [
    "# help(Word2Vec)"
   ]
  },
  {
   "cell_type": "code",
   "execution_count": 83,
   "metadata": {
    "execution": {
     "iopub.execute_input": "2024-03-26T14:28:14.589667Z",
     "iopub.status.busy": "2024-03-26T14:28:14.589091Z",
     "iopub.status.idle": "2024-03-26T14:28:16.344619Z",
     "shell.execute_reply": "2024-03-26T14:28:16.343995Z",
     "shell.execute_reply.started": "2024-03-26T14:28:14.589636Z"
    },
    "id": "fmH3vc7FSCuP",
    "tags": []
   },
   "outputs": [],
   "source": [
    "embeddings_trained = Word2Vec(proc_words, \n",
    "                              vector_size=300,  # Размер вектора эмбеддинга\n",
    "                              min_count=3,      # Учитываем слова, встретившиеся как минимум 3 раза\n",
    "                              window=3).wv"
   ]
  },
  {
   "cell_type": "code",
   "execution_count": 84,
   "metadata": {
    "execution": {
     "iopub.execute_input": "2024-03-26T14:28:16.346010Z",
     "iopub.status.busy": "2024-03-26T14:28:16.345488Z",
     "iopub.status.idle": "2024-03-26T14:28:16.355895Z",
     "shell.execute_reply": "2024-03-26T14:28:16.355379Z",
     "shell.execute_reply.started": "2024-03-26T14:28:16.345979Z"
    },
    "id": "0Lq20widPJcO",
    "tags": []
   },
   "outputs": [],
   "source": [
    "def vectorize_sum(comment, embeddings):\n",
    "    \"\"\"\n",
    "    implement a function that converts preprocessed comment to a sum of token vectors\n",
    "    реализуйте функцию, которая преобразует предварительно обработанный комментарий в сумму векторов токенов\n",
    "    \"\"\"\n",
    "    embedding_dim = embeddings.vectors.shape[1]\n",
    "    features = np.zeros([embedding_dim], dtype='float32')\n",
    "    \n",
    "    # i = 0\n",
    "    for word in preproc_nltk(comment).split():\n",
    "        if word in embeddings:\n",
    "            # i += 1\n",
    "            features += embeddings[f'{word}']\n",
    "\n",
    "    return features # / i"
   ]
  },
  {
   "cell_type": "code",
   "execution_count": 85,
   "metadata": {
    "colab": {
     "base_uri": "https://localhost:8080/"
    },
    "execution": {
     "iopub.execute_input": "2024-03-26T14:28:16.357380Z",
     "iopub.status.busy": "2024-03-26T14:28:16.356810Z",
     "iopub.status.idle": "2024-03-26T14:28:23.573483Z",
     "shell.execute_reply": "2024-03-26T14:28:23.572824Z",
     "shell.execute_reply.started": "2024-03-26T14:28:16.357349Z"
    },
    "id": "krjpVRsLPJcf",
    "outputId": "0f24b897-f3c5-4ee7-84fe-1ca5a2abeafe",
    "tags": []
   },
   "outputs": [
    {
     "name": "stdout",
     "output_type": "stream",
     "text": [
      "(1627, 25) (407, 25)\n"
     ]
    },
    {
     "data": {
      "text/plain": [
       "0.7051597051597052"
      ]
     },
     "execution_count": 85,
     "metadata": {},
     "output_type": "execute_result"
    }
   ],
   "source": [
    "X_wv = np.stack([vectorize_sum(text, embeddings_pretrained) for text in newsgroups_train.data])\n",
    "# X_wv = np.stack([vectorize_sum(text, embeddings_trained) for text in newsgroups_train.data])\n",
    "\n",
    "X_train_wv, X_test_wv, y_train, y_test = train_test_split(X_wv, newsgroups_train.target, test_size=0.2, random_state=0)\n",
    "print(X_train_wv.shape, X_test_wv.shape)\n",
    "\n",
    "from sklearn.linear_model import LogisticRegression\n",
    "from sklearn.metrics import roc_auc_score\n",
    "\n",
    "clf = LogisticRegression(max_iter=5000)\n",
    "wv_model = clf.fit(X_train_wv, y_train)\n",
    "accuracy_score(y_test, wv_model.predict(X_test_wv))"
   ]
  },
  {
   "cell_type": "code",
   "execution_count": 87,
   "metadata": {
    "colab": {
     "base_uri": "https://localhost:8080/"
    },
    "execution": {
     "iopub.execute_input": "2024-03-26T14:28:23.585289Z",
     "iopub.status.busy": "2024-03-26T14:28:23.584869Z",
     "iopub.status.idle": "2024-03-26T14:28:39.537683Z",
     "shell.execute_reply": "2024-03-26T14:28:39.536904Z",
     "shell.execute_reply.started": "2024-03-26T14:28:23.585260Z"
    },
    "id": "oT_Rr4nOUUu8",
    "outputId": "08a28d12-283e-4eab-d80c-6208cc6ceadd",
    "tags": []
   },
   "outputs": [
    {
     "name": "stderr",
     "output_type": "stream",
     "text": [
      "/usr/local/lib/python3.10/dist-packages/sklearn/linear_model/_logistic.py:458: ConvergenceWarning: lbfgs failed to converge (status=1):\n",
      "STOP: TOTAL NO. of ITERATIONS REACHED LIMIT.\n",
      "\n",
      "Increase the number of iterations (max_iter) or scale the data as shown in:\n",
      "    https://scikit-learn.org/stable/modules/preprocessing.html\n",
      "Please also refer to the documentation for alternative solver options:\n",
      "    https://scikit-learn.org/stable/modules/linear_model.html#logistic-regression\n",
      "  n_iter_i = _check_optimize_result(\n"
     ]
    },
    {
     "data": {
      "text/plain": [
       "0.855036855036855"
      ]
     },
     "execution_count": 87,
     "metadata": {},
     "output_type": "execute_result"
    }
   ],
   "source": [
    "X_wv = np.stack([vectorize_sum(text, embeddings_trained) for text in newsgroups_train.data])\n",
    "X_train_wv, X_test_wv, y_train, y_test = train_test_split(X_wv, newsgroups_train.target, test_size=0.2, random_state=0)\n",
    "X_train_wv.shape, X_test_wv.shape\n",
    "\n",
    "from sklearn.linear_model import LogisticRegression\n",
    "from sklearn.metrics import roc_auc_score\n",
    "\n",
    "clf = LogisticRegression(max_iter=10000)\n",
    "wv_model = clf.fit(X_train_wv, y_train)\n",
    "accuracy_score(y_test, wv_model.predict(X_test_wv))"
   ]
  },
  {
   "cell_type": "code",
   "execution_count": 86,
   "metadata": {
    "colab": {
     "base_uri": "https://localhost:8080/"
    },
    "execution": {
     "iopub.execute_input": "2024-03-26T14:28:23.574843Z",
     "iopub.status.busy": "2024-03-26T14:28:23.574312Z",
     "iopub.status.idle": "2024-03-26T14:28:23.584167Z",
     "shell.execute_reply": "2024-03-26T14:28:23.583641Z",
     "shell.execute_reply.started": "2024-03-26T14:28:23.574811Z"
    },
    "id": "h1KaMKBHsSHd",
    "outputId": "65336ef9-6d63-4c40-881d-d22ca4b8b2c5",
    "tags": []
   },
   "outputs": [],
   "source": [
    "# len(embeddings_trained.index2word)"
   ]
  }
 ],
 "metadata": {
  "colab": {
   "provenance": []
  },
  "kernelspec": {
   "display_name": "DataSphere Kernel",
   "language": "python",
   "name": "python3"
  },
  "language_info": {
   "codemirror_mode": {
    "name": "ipython",
    "version": 3
   },
   "file_extension": ".py",
   "mimetype": "text/x-python",
   "name": "python",
   "nbconvert_exporter": "python",
   "pygments_lexer": "ipython3",
   "version": "3.7.7"
  },
  "toc": {
   "base_numbering": 1,
   "nav_menu": {
    "height": "11.8333px",
    "width": "160px"
   },
   "number_sections": false,
   "sideBar": true,
   "skip_h1_title": false,
   "title_cell": "Table of Contents",
   "title_sidebar": "Contents",
   "toc_cell": false,
   "toc_position": {
    "height": "calc(100% - 180px)",
    "left": "10px",
    "top": "150px",
    "width": "339.717px"
   },
   "toc_section_display": true,
   "toc_window_display": false
  },
  "varInspector": {
   "cols": {
    "lenName": 16,
    "lenType": 16,
    "lenVar": 40
   },
   "kernels_config": {
    "python": {
     "delete_cmd_postfix": "",
     "delete_cmd_prefix": "del ",
     "library": "var_list.py",
     "varRefreshCmd": "print(var_dic_list())"
    },
    "r": {
     "delete_cmd_postfix": ") ",
     "delete_cmd_prefix": "rm(",
     "library": "var_list.r",
     "varRefreshCmd": "cat(var_dic_list()) "
    }
   },
   "types_to_exclude": [
    "module",
    "function",
    "builtin_function_or_method",
    "instance",
    "_Feature"
   ],
   "window_display": false
  }
 },
 "nbformat": 4,
 "nbformat_minor": 4
}
