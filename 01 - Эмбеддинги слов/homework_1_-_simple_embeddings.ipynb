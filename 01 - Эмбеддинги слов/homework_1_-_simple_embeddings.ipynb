{
 "cells": [
  {
   "cell_type": "markdown",
   "metadata": {
    "id": "Ot3c4fjZwC4T"
   },
   "source": [
    "<img src=\"https://s8.hostingkartinok.com/uploads/images/2018/08/308b49fcfbc619d629fe4604bceb67ac.jpg\" width=500, height=450>\n",
    "<h3 style=\"text-align: center;\"><b>Физтех-Школа Прикладной математики и информатики (ФПМИ) МФТИ</b></h3>"
   ]
  },
  {
   "cell_type": "markdown",
   "metadata": {
    "id": "P2JdzEXmwRU5"
   },
   "source": [
    "---"
   ]
  },
  {
   "cell_type": "markdown",
   "metadata": {
    "id": "Fc8iHXIVwDwj"
   },
   "source": [
    "***Some parts of the notebook are almost the copy of [ mmta-team course](https://github.com/mmta-team/mmta_fall_2020). Special thanks to mmta-team for making them publicly available. [Original notebook](https://github.com/mmta-team/mmta_fall_2020/blob/master/tasks/01_word_embeddings/task_word_embeddings.ipynb).***"
   ]
  },
  {
   "cell_type": "markdown",
   "metadata": {
    "id": "7D0wm5jt6j0U"
   },
   "source": [
    "<b> Прочитайте семинар, пожалуйста, для успешного выполнения домашнего задания. В конце ноутка напишите свой вывод. Работа без вывода оценивается ниже."
   ]
  },
  {
   "cell_type": "markdown",
   "metadata": {
    "id": "BIWqBuEa6j0b"
   },
   "source": [
    "## Задача поиска схожих по смыслу предложений"
   ]
  },
  {
   "cell_type": "markdown",
   "metadata": {
    "id": "NUkwMPLA6j0g"
   },
   "source": [
    "Мы будем ранжировать вопросы [StackOverflow](https://stackoverflow.com) на основе семантического векторного представления "
   ]
  },
  {
   "cell_type": "markdown",
   "metadata": {
    "id": "dNRXIEfu5a3Q"
   },
   "source": [
    "До этого в курсе не было речи про задачу ранжировния, поэтому введем математическую формулировку"
   ]
  },
  {
   "cell_type": "markdown",
   "metadata": {
    "id": "uS9FwWNd5a3S"
   },
   "source": [
    "## Задача ранжирования(Learning to Rank)"
   ]
  },
  {
   "cell_type": "markdown",
   "metadata": {
    "id": "wdwY9-f75a3T"
   },
   "source": [
    "* $X$ - множество объектов\n",
    "* $X^l = \\{x_1, x_2, ..., x_l\\}$ - обучающая выборка\n",
    "<br>На обучающей выборке задан порядок между некоторыми элементами, то есть нам известно, что некий объект выборки более релевантный для нас, чем другой:\n",
    "* $i \\prec j$ - порядок пары индексов объектов на выборке $X^l$ c индексами $i$ и $j$\n",
    "### Задача:\n",
    "построить ранжирующую функцию $a$ : $X \\rightarrow R$ такую, что\n",
    "$$i \\prec j \\Rightarrow a(x_i) < a(x_j)$$"
   ]
  },
  {
   "cell_type": "markdown",
   "metadata": {
    "id": "WG2IGBsh5a3U"
   },
   "source": [
    "<img src=\"https://d25skit2l41vkl.cloudfront.net/wp-content/uploads/2016/12/Featured-Image.jpg\" width=500, height=450>"
   ]
  },
  {
   "cell_type": "markdown",
   "metadata": {
    "id": "MQk_rolFwT_h"
   },
   "source": [
    "### Embeddings"
   ]
  },
  {
   "cell_type": "markdown",
   "metadata": {
    "id": "xUe1PGXn6j0l"
   },
   "source": [
    "Будем использовать предобученные векторные представления слов на постах Stack Overflow.<br>\n",
    "[A word2vec model trained on Stack Overflow posts](https://github.com/vefstathiou/SO_word2vec)"
   ]
  },
  {
   "cell_type": "code",
   "execution_count": 1,
   "metadata": {
    "execution": {
     "iopub.execute_input": "2024-03-28T19:00:41.101774Z",
     "iopub.status.busy": "2024-03-28T19:00:41.101104Z",
     "iopub.status.idle": "2024-03-28T19:00:41.121937Z",
     "shell.execute_reply": "2024-03-28T19:00:41.121263Z",
     "shell.execute_reply.started": "2024-03-28T19:00:41.101735Z"
    },
    "id": "mYkI54Y-rk7a",
    "tags": []
   },
   "outputs": [],
   "source": [
    "# !wget https://zenodo.org/record/1199620/files/SO_vectors_200.bin?download=1"
   ]
  },
  {
   "cell_type": "code",
   "execution_count": 2,
   "metadata": {
    "execution": {
     "iopub.execute_input": "2024-03-28T19:00:41.506923Z",
     "iopub.status.busy": "2024-03-28T19:00:41.506229Z",
     "iopub.status.idle": "2024-03-28T19:00:52.359105Z",
     "shell.execute_reply": "2024-03-28T19:00:52.358407Z",
     "shell.execute_reply.started": "2024-03-28T19:00:41.506880Z"
    },
    "id": "O8YJTOYv6j0s",
    "tags": []
   },
   "outputs": [],
   "source": [
    "from gensim.models.keyedvectors import KeyedVectors\n",
    "\n",
    "wv_embeddings = KeyedVectors.load_word2vec_format(\"SO_vectors_200.bin?download=1\", binary=True)"
   ]
  },
  {
   "cell_type": "markdown",
   "metadata": {
    "id": "aIcT_g-C6j1E"
   },
   "source": [
    "#### Как пользоваться этими векторами?"
   ]
  },
  {
   "cell_type": "markdown",
   "metadata": {
    "id": "DWO5SPDY6j1G"
   },
   "source": [
    "Посмотрим на примере одного слова, что из себя представляет embedding"
   ]
  },
  {
   "cell_type": "code",
   "execution_count": 3,
   "metadata": {
    "execution": {
     "iopub.execute_input": "2024-03-28T19:00:52.360741Z",
     "iopub.status.busy": "2024-03-28T19:00:52.360212Z",
     "iopub.status.idle": "2024-03-28T19:00:52.370688Z",
     "shell.execute_reply": "2024-03-28T19:00:52.370055Z",
     "shell.execute_reply.started": "2024-03-28T19:00:52.360709Z"
    },
    "id": "KeSBlQfk6j1J",
    "scrolled": true,
    "tags": []
   },
   "outputs": [
    {
     "name": "stdout",
     "output_type": "stream",
     "text": [
      "float32 (200,)\n"
     ]
    }
   ],
   "source": [
    "word = 'dog'\n",
    "if word in wv_embeddings:\n",
    "    print(wv_embeddings[word].dtype, wv_embeddings[word].shape)"
   ]
  },
  {
   "cell_type": "code",
   "execution_count": 4,
   "metadata": {
    "execution": {
     "iopub.execute_input": "2024-03-28T19:00:52.372422Z",
     "iopub.status.busy": "2024-03-28T19:00:52.371942Z",
     "iopub.status.idle": "2024-03-28T19:00:52.379617Z",
     "shell.execute_reply": "2024-03-28T19:00:52.379055Z",
     "shell.execute_reply.started": "2024-03-28T19:00:52.372392Z"
    },
    "tags": []
   },
   "outputs": [],
   "source": [
    "# help(wv_embeddings)"
   ]
  },
  {
   "cell_type": "code",
   "execution_count": 5,
   "metadata": {
    "execution": {
     "iopub.execute_input": "2024-03-28T19:00:52.381184Z",
     "iopub.status.busy": "2024-03-28T19:00:52.380741Z",
     "iopub.status.idle": "2024-03-28T19:00:52.389946Z",
     "shell.execute_reply": "2024-03-28T19:00:52.389313Z",
     "shell.execute_reply.started": "2024-03-28T19:00:52.381155Z"
    },
    "id": "T4Eq-D1qxpMJ",
    "tags": []
   },
   "outputs": [
    {
     "name": "stdout",
     "output_type": "stream",
     "text": [
      "Num of words: 1787145\n"
     ]
    }
   ],
   "source": [
    "print(f\"Num of words: {len(wv_embeddings.index_to_key)}\")"
   ]
  },
  {
   "cell_type": "code",
   "execution_count": 6,
   "metadata": {
    "execution": {
     "iopub.execute_input": "2024-03-28T19:00:52.391397Z",
     "iopub.status.busy": "2024-03-28T19:00:52.390822Z",
     "iopub.status.idle": "2024-03-28T19:00:52.424376Z",
     "shell.execute_reply": "2024-03-28T19:00:52.423713Z",
     "shell.execute_reply.started": "2024-03-28T19:00:52.391357Z"
    },
    "tags": []
   },
   "outputs": [
    {
     "data": {
      "text/plain": [
       "array([-1.3247741 ,  2.4254758 , -0.48980346,  2.9409528 , -3.1995323 ,\n",
       "        1.9706817 ,  2.7333171 ,  0.67988634, -0.77023953, -2.5330846 ],\n",
       "      dtype=float32)"
      ]
     },
     "execution_count": 6,
     "metadata": {},
     "output_type": "execute_result"
    }
   ],
   "source": [
    "wv_embeddings[0][:10]"
   ]
  },
  {
   "cell_type": "code",
   "execution_count": 7,
   "metadata": {
    "execution": {
     "iopub.execute_input": "2024-03-28T19:00:52.425809Z",
     "iopub.status.busy": "2024-03-28T19:00:52.425312Z",
     "iopub.status.idle": "2024-03-28T19:00:52.444963Z",
     "shell.execute_reply": "2024-03-28T19:00:52.444382Z",
     "shell.execute_reply.started": "2024-03-28T19:00:52.425777Z"
    },
    "tags": []
   },
   "outputs": [
    {
     "data": {
      "text/plain": [
       "'use'"
      ]
     },
     "execution_count": 7,
     "metadata": {},
     "output_type": "execute_result"
    }
   ],
   "source": [
    "wv_embeddings.index_to_key[0]"
   ]
  },
  {
   "cell_type": "markdown",
   "metadata": {
    "id": "ZT6NTCys6j1Q"
   },
   "source": [
    "Найдем наиболее близкие слова к слову `dog`:"
   ]
  },
  {
   "cell_type": "markdown",
   "metadata": {
    "id": "n08z2PjMwC5o"
   },
   "source": [
    "#### Вопрос 1:\n",
    "* Входит ли слово `cat` топ-5 близких слов к слову `dog`? Какое место? "
   ]
  },
  {
   "cell_type": "code",
   "execution_count": 8,
   "metadata": {
    "execution": {
     "iopub.execute_input": "2024-03-28T19:00:52.446410Z",
     "iopub.status.busy": "2024-03-28T19:00:52.445792Z",
     "iopub.status.idle": "2024-03-28T19:00:52.460665Z",
     "shell.execute_reply": "2024-03-28T19:00:52.460014Z",
     "shell.execute_reply.started": "2024-03-28T19:00:52.446379Z"
    }
   },
   "outputs": [
    {
     "data": {
      "text/plain": [
       "'your code'"
      ]
     },
     "execution_count": 8,
     "metadata": {},
     "output_type": "execute_result"
    }
   ],
   "source": [
    "# method most_simmilar\n",
    "'''your code'''"
   ]
  },
  {
   "cell_type": "code",
   "execution_count": 9,
   "metadata": {
    "execution": {
     "iopub.execute_input": "2024-03-28T19:00:52.463130Z",
     "iopub.status.busy": "2024-03-28T19:00:52.462536Z",
     "iopub.status.idle": "2024-03-28T19:00:52.475094Z",
     "shell.execute_reply": "2024-03-28T19:00:52.474420Z",
     "shell.execute_reply.started": "2024-03-28T19:00:52.463099Z"
    },
    "tags": []
   },
   "outputs": [],
   "source": [
    "# help(wv_embeddings.most_similar)"
   ]
  },
  {
   "cell_type": "code",
   "execution_count": 10,
   "metadata": {
    "execution": {
     "iopub.execute_input": "2024-03-28T19:00:52.476848Z",
     "iopub.status.busy": "2024-03-28T19:00:52.476322Z",
     "iopub.status.idle": "2024-03-28T19:00:53.080658Z",
     "shell.execute_reply": "2024-03-28T19:00:53.079891Z",
     "shell.execute_reply.started": "2024-03-28T19:00:52.476827Z"
    },
    "tags": []
   },
   "outputs": [],
   "source": [
    "top30 = wv_embeddings.most_similar(positive=['dog'], negative=[], topn=30)"
   ]
  },
  {
   "cell_type": "code",
   "execution_count": 11,
   "metadata": {
    "execution": {
     "iopub.execute_input": "2024-03-28T19:00:53.082773Z",
     "iopub.status.busy": "2024-03-28T19:00:53.081707Z",
     "iopub.status.idle": "2024-03-28T19:00:53.096239Z",
     "shell.execute_reply": "2024-03-28T19:00:53.095535Z",
     "shell.execute_reply.started": "2024-03-28T19:00:53.082727Z"
    },
    "tags": []
   },
   "outputs": [
    {
     "name": "stdout",
     "output_type": "stream",
     "text": [
      "25 cat 0.6852341294288635\n"
     ]
    }
   ],
   "source": [
    "for i, (word, similarity) in enumerate(top30):\n",
    "    if word == 'cat':\n",
    "        print(i, word, similarity)"
   ]
  },
  {
   "cell_type": "markdown",
   "metadata": {
    "execution": {
     "iopub.execute_input": "2024-03-28T17:44:48.174029Z",
     "iopub.status.busy": "2024-03-28T17:44:48.173450Z",
     "iopub.status.idle": "2024-03-28T17:44:48.187169Z",
     "shell.execute_reply": "2024-03-28T17:44:48.186180Z",
     "shell.execute_reply.started": "2024-03-28T17:44:48.173999Z"
    },
    "tags": []
   },
   "source": [
    "#### Ответ 1:\n",
    "* 25"
   ]
  },
  {
   "cell_type": "markdown",
   "metadata": {
    "id": "ai48-5vv6j1d"
   },
   "source": [
    "### Векторные представления текста\n",
    "\n",
    "Перейдем от векторных представлений отдельных слов к векторным представлениям вопросов, как к **среднему** векторов всех слов в вопросе. Если для какого-то слова нет предобученного вектора, то его нужно пропустить. Если вопрос не содержит ни одного известного слова, то нужно вернуть нулевой вектор."
   ]
  },
  {
   "cell_type": "code",
   "execution_count": 12,
   "metadata": {
    "execution": {
     "iopub.execute_input": "2024-03-28T19:00:53.098428Z",
     "iopub.status.busy": "2024-03-28T19:00:53.096943Z",
     "iopub.status.idle": "2024-03-28T19:00:53.313030Z",
     "shell.execute_reply": "2024-03-28T19:00:53.312436Z",
     "shell.execute_reply.started": "2024-03-28T19:00:53.098378Z"
    },
    "tags": []
   },
   "outputs": [
    {
     "name": "stdout",
     "output_type": "stream",
     "text": [
      "['All', 'work', 'and', 'no', 'play', 'makes', 'jack', 'a', 'dull', 'boy', ',', 'all', 'work', 'and', 'no', 'play']\n"
     ]
    }
   ],
   "source": [
    "from nltk.tokenize import WordPunctTokenizer\n",
    "from nltk.tokenize import word_tokenize, sent_tokenize\n",
    "\n",
    "text = \"All work and no play makes jack a dull boy, all work and no play\"\n",
    "tokenizer = WordPunctTokenizer()  # создаем экземпляр токенизатора\n",
    "tokens = tokenizer.tokenize(text)  # разбиваем текст на токены\n",
    "\n",
    "print(tokens)  # выводим результат"
   ]
  },
  {
   "cell_type": "code",
   "execution_count": 13,
   "metadata": {
    "execution": {
     "iopub.execute_input": "2024-03-28T19:00:53.314584Z",
     "iopub.status.busy": "2024-03-28T19:00:53.313923Z",
     "iopub.status.idle": "2024-03-28T19:00:57.670724Z",
     "shell.execute_reply": "2024-03-28T19:00:57.669960Z",
     "shell.execute_reply.started": "2024-03-28T19:00:53.314548Z"
    },
    "id": "EhNuxBJd6j1f",
    "tags": []
   },
   "outputs": [
    {
     "name": "stderr",
     "output_type": "stream",
     "text": [
      "/usr/local/lib/python3.10/dist-packages/torch/cuda/__init__.py:546: UserWarning: Can't initialize NVML\n",
      "  warnings.warn(\"Can't initialize NVML\")\n",
      "2024-03-28 19:00:54.834698: I tensorflow/core/util/port.cc:110] oneDNN custom operations are on. You may see slightly different numerical results due to floating-point round-off errors from different computation orders. To turn them off, set the environment variable `TF_ENABLE_ONEDNN_OPTS=0`.\n",
      "2024-03-28 19:00:54.877809: I tensorflow/core/platform/cpu_feature_guard.cc:182] This TensorFlow binary is optimized to use available CPU instructions in performance-critical operations.\n",
      "To enable the following instructions: AVX2 AVX512F AVX512_VNNI FMA, in other operations, rebuild TensorFlow with the appropriate compiler flags.\n",
      "2024-03-28 19:00:55.743001: W tensorflow/compiler/tf2tensorrt/utils/py_utils.cc:38] TF-TRT Warning: Could not find TensorRT\n",
      "2024-03-28 19:00:56.493307: E tensorflow/compiler/xla/stream_executor/cuda/cuda_driver.cc:266] failed call to cuInit: CUDA_ERROR_NO_DEVICE: no CUDA-capable device is detected\n",
      "[nltk_data] Downloading package stopwords to\n",
      "[nltk_data]     /home/jupyter/nltk_data...\n",
      "[nltk_data]   Package stopwords is already up-to-date!\n"
     ]
    },
    {
     "data": {
      "text/plain": [
       "['neighbour', 'often', 'drill', 'noise', 'let', 'I', 'concentrate', 'homework']"
      ]
     },
     "execution_count": 13,
     "metadata": {},
     "output_type": "execute_result"
    }
   ],
   "source": [
    "from sklearn.feature_extraction.text import TfidfVectorizer\n",
    "import nltk\n",
    "import string\n",
    "import spacy\n",
    "\n",
    "nltk.download('stopwords')\n",
    "from nltk.corpus import stopwords\n",
    "stopWords = set(stopwords.words('english'))\n",
    "\n",
    "class MyTokenizer:\n",
    "    def __init__(self):\n",
    "        self.lemmatization = spacy.load('en_core_web_sm')\n",
    "        self.stopWords = set(stopwords.words('english'))\n",
    "        self.punctuation = string.punctuation\n",
    "        \n",
    "    def tokenize(self, text):\n",
    "        # return re.findall('\\w+', text)\n",
    "        text = text.lower()\n",
    "        # лемматизация\n",
    "        spacy_results = self.lemmatization(text)\n",
    "        text = [token.lemma_ for token in spacy_results]\n",
    "        # print(text)\n",
    "        #cтоп слова \n",
    "        text = [word for word in text if word not in self.stopWords]\n",
    "        # пунктуация\n",
    "        text = [word for word in text if word not in self.punctuation]\n",
    "        # print(text)\n",
    "        text = ' '.join(text)\n",
    "        # токенизация       \n",
    "        tokens = word_tokenize(text)\n",
    "        #bigram = list(nltk.ngrams(tokens, 2))\n",
    "        #print('bigram = ', bigram)\n",
    "        return tokens\n",
    "\n",
    "text = 'My neighbour often drills. This noise doesn’t let me concentrate on my homework!'\n",
    "\n",
    "tokenizer = MyTokenizer()\n",
    "tokenizer.tokenize(text)"
   ]
  },
  {
   "cell_type": "code",
   "execution_count": 14,
   "metadata": {
    "execution": {
     "iopub.execute_input": "2024-03-28T19:00:57.672420Z",
     "iopub.status.busy": "2024-03-28T19:00:57.671769Z",
     "iopub.status.idle": "2024-03-28T19:00:57.687722Z",
     "shell.execute_reply": "2024-03-28T19:00:57.687041Z",
     "shell.execute_reply.started": "2024-03-28T19:00:57.672394Z"
    },
    "id": "YHcvu6186j1m",
    "tags": []
   },
   "outputs": [
    {
     "data": {
      "text/plain": [
       "array([0., 0., 0., 0., 0., 0., 0., 0., 0., 0.])"
      ]
     },
     "execution_count": 14,
     "metadata": {},
     "output_type": "execute_result"
    }
   ],
   "source": [
    "import numpy as np \n",
    "\n",
    "\n",
    "def question_to_vec(question, embeddings, tokenizer, dim=200):\n",
    "    \"\"\"\n",
    "        question: строка\n",
    "        embeddings: наше векторное представление\n",
    "        dim: размер любого вектора в нашем представлении\n",
    "        \n",
    "        return: векторное представление для вопроса\n",
    "    \"\"\"\n",
    "    \n",
    "    '''your code'''\n",
    "    tokens = tokenizer.tokenize(question)\n",
    "    # print(tokens)\n",
    "    vecs = np.zeros(dim)\n",
    "    k = 0\n",
    "    for token in tokens:\n",
    "        if token in embeddings:\n",
    "            k += 1\n",
    "            vecs += embeddings[token]\n",
    "    if k == 0:\n",
    "        return vecs\n",
    "    return vecs / k\n",
    "\n",
    "question_to_vec('', wv_embeddings, tokenizer)[:10]"
   ]
  },
  {
   "cell_type": "code",
   "execution_count": 15,
   "metadata": {
    "execution": {
     "iopub.execute_input": "2024-03-28T19:00:57.689422Z",
     "iopub.status.busy": "2024-03-28T19:00:57.688924Z",
     "iopub.status.idle": "2024-03-28T19:00:57.726886Z",
     "shell.execute_reply": "2024-03-28T19:00:57.726306Z",
     "shell.execute_reply.started": "2024-03-28T19:00:57.689398Z"
    },
    "tags": []
   },
   "outputs": [
    {
     "data": {
      "text/plain": [
       "array([-1.25681178, -1.26777713, -1.40681175, -0.90633385,  0.37728501,\n",
       "       -0.4538045 ,  1.22090296, -0.3721061 ,  0.43070222,  0.29966467])"
      ]
     },
     "execution_count": 15,
     "metadata": {},
     "output_type": "execute_result"
    }
   ],
   "source": [
    "question_to_vec('I love neural networks?', wv_embeddings, tokenizer)[:10]"
   ]
  },
  {
   "cell_type": "markdown",
   "metadata": {
    "id": "u5Q_4j7r6j1u"
   },
   "source": [
    "Теперь у нас есть метод для создания векторного представления любого предложения."
   ]
  },
  {
   "cell_type": "markdown",
   "metadata": {
    "id": "EsJSNkhm6j1y"
   },
   "source": [
    "#### Вопрос 2:\n",
    "* Какая третья(с индексом 2) компонента вектора предложения `I love neural networks` (округлите до 2 знаков после запятой)?"
   ]
  },
  {
   "cell_type": "code",
   "execution_count": 16,
   "metadata": {
    "execution": {
     "iopub.execute_input": "2024-03-28T19:00:57.728187Z",
     "iopub.status.busy": "2024-03-28T19:00:57.727667Z",
     "iopub.status.idle": "2024-03-28T19:00:57.747394Z",
     "shell.execute_reply": "2024-03-28T19:00:57.746811Z",
     "shell.execute_reply.started": "2024-03-28T19:00:57.728158Z"
    },
    "id": "a62r11cT6j10",
    "scrolled": true,
    "tags": []
   },
   "outputs": [
    {
     "name": "stdout",
     "output_type": "stream",
     "text": [
      "['I', 'love', 'neural', 'network']\n",
      "-1.41\n"
     ]
    }
   ],
   "source": [
    "'''your code'''\n",
    "\n",
    "sentence = 'I love neural networks'\n",
    "tokens = tokenizer.tokenize(sentence)\n",
    "print(tokens)\n",
    "\n",
    "vector = question_to_vec(sentence, wv_embeddings, tokenizer)\n",
    "print(f'{vector[2]:.2f}')"
   ]
  },
  {
   "cell_type": "markdown",
   "metadata": {
    "execution": {
     "iopub.execute_input": "2024-03-28T17:46:26.124231Z",
     "iopub.status.busy": "2024-03-28T17:46:26.123605Z",
     "iopub.status.idle": "2024-03-28T17:46:26.159845Z",
     "shell.execute_reply": "2024-03-28T17:46:26.157595Z",
     "shell.execute_reply.started": "2024-03-28T17:46:26.124195Z"
    }
   },
   "source": [
    "#### Ответ 2:\n",
    "* Если правильно поняла, -1.41"
   ]
  },
  {
   "cell_type": "markdown",
   "metadata": {
    "id": "Y60z4t6W6j16"
   },
   "source": [
    "### Оценка близости текстов\n",
    "\n",
    "Представим, что мы используем идеальные векторные представления слов. Тогда косинусное расстояние между дублирующими предложениями должно быть меньше, чем между случайно взятыми предложениями. \n",
    "\n",
    "Сгенерируем для каждого из $N$ вопросов $R$ случайных отрицательных примеров и примешаем к ним также настоящие дубликаты. Для каждого вопроса будем ранжировать с помощью нашей модели $R + 1$ примеров и смотреть на позицию дубликата. Мы хотим, чтобы дубликат был первым в ранжированном списке.\n",
    "\n",
    "#### Hits@K\n",
    "\n",
    "Hits@K - это метрика, используемая в оценке качества ранжирования информационного поиска. Она измеряет долю правильных предсказаний среди топ-K элементов, которые были предложены моделью или системой.Hits@K - это метрика, используемая в оценке качества ранжирования информационного поиска. Она измеряет долю правильных предсказаний среди топ-K элементов, которые были предложены моделью или системой.\n",
    "\n",
    "Первой простой метрикой будет количество корректных попаданий для какого-то $K$:\n",
    "$$ \\text{Hits@K} = \\frac{1}{N}\\sum_{i=1}^N \\, [rank\\_q_i^{'} \\le K],$$\n",
    "* $\\begin{equation*}\n",
    "[x < 0 ] \\equiv \n",
    " \\begin{cases}\n",
    "   1, &x < 0\\\\\n",
    "   0, &x \\geq 0\n",
    " \\end{cases}\n",
    "\\end{equation*}$ - индикаторная функция\n",
    "* $q_i$ - $i$-ый вопрос\n",
    "* $q_i^{'}$ - его дубликат\n",
    "* $rank\\_q_i^{'}$ - позиция дубликата в ранжированном списке ближайших предложений для вопроса $q_i$.\n",
    "\n",
    "#### DCG@K\n",
    "\n",
    "DCG@K (Discounted Cumulative Gain at K) - это метрика, используемая для оценки качества ранжирования результатов поиска или рекомендаций. Она измеряет полезность и порядок представления элементов в списке. \n",
    "\n",
    "Второй метрикой будет упрощенная DCG метрика, учитывающая порядок элементов в списке путем домножения релевантности элемента на вес равный обратному логарифму номера позиции::\n",
    "$$ \\text{DCG@K} = \\frac{1}{N} \\sum_{i=1}^N\\frac{1}{\\log_2(1+rank\\_q_i^{'})}\\cdot[rank\\_q_i^{'} \\le K],$$\n",
    "С такой метрикой модель штрафуется за большой ранк корректного ответа"
   ]
  },
  {
   "cell_type": "markdown",
   "metadata": {
    "id": "eHCnH-jw6j18"
   },
   "source": [
    "#### Вопрос 3:\n",
    "* Максимум `Hits@47 - DCG@1`?"
   ]
  },
  {
   "cell_type": "markdown",
   "metadata": {
    "id": "_tFemBkP6j1-"
   },
   "source": [
    "<img src='https://hsto.org/files/1c5/edf/dee/1c5edfdeebce4b71a86bdf986d9f88f2.jpg' width=400, height=200>"
   ]
  },
  {
   "cell_type": "markdown",
   "metadata": {
    "id": "0sUSxk866j1_"
   },
   "source": [
    "#### Пример оценок\n",
    "\n",
    "Вычислим описанные выше метрики для игрушечного примера. \n",
    "Пусть\n",
    "* $N = 1$, $R = 3$\n",
    "* <font color='green'>\"Что такое python?\"</font> - вопрос $q_1$\n",
    "* <font color='red'>\"Что такое язык python?\"</font> - его дубликат $q_i^{'}$\n",
    "\n",
    "Пусть модель выдала следующий ранжированный список кандидатов:\n",
    "\n",
    "1. \"Как изучить с++?\"\n",
    "2. <font color='red'>\"Что такое язык python?\"</font>\n",
    "3. \"Хочу учить Java\"\n",
    "4. \"Не понимаю Tensorflow\"\n",
    "\n",
    "$\\Rightarrow rank\\_q_i^{'} = 2$\n",
    "\n",
    "Вычислим метрику *Hits@K* для *K = 1, 4*:\n",
    "\n",
    "- [K = 1] $\\text{Hits@1} =  [rank\\_q_i^{'} \\le 1] = 0$\n",
    "- [K = 4] $\\text{Hits@4} =  [rank\\_q_i^{'} \\le 4] = 1$\n",
    "\n",
    "Вычислим метрику *DCG@K* для *K = 1, 4*:\n",
    "- [K = 1] $\\text{DCG@1} = \\frac{1}{\\log_2(1+2)}\\cdot[2 \\le 1] = 0$\n",
    "- [K = 4] $\\text{DCG@4} = \\frac{1}{\\log_2(1+2)}\\cdot[2 \\le 4] = \\frac{1}{\\log_2{3}}$"
   ]
  },
  {
   "cell_type": "markdown",
   "metadata": {
    "execution": {
     "iopub.execute_input": "2024-03-28T17:47:07.246607Z",
     "iopub.status.busy": "2024-03-28T17:47:07.245927Z",
     "iopub.status.idle": "2024-03-28T17:47:07.269997Z",
     "shell.execute_reply": "2024-03-28T17:47:07.269071Z",
     "shell.execute_reply.started": "2024-03-28T17:47:07.246569Z"
    },
    "tags": []
   },
   "source": [
    "#### Ответ 3:\n",
    "* Максимум `Hits@47 - DCG@1 = 1 - 0 = 1`"
   ]
  },
  {
   "cell_type": "markdown",
   "metadata": {
    "id": "B4L6HJJC6j2B"
   },
   "source": [
    "#### Вопрос 4:\n",
    "* Вычислите `DCG@10`, если $rank\\_q_i^{'} = 9$(округлите до одного знака после запятой)"
   ]
  },
  {
   "cell_type": "markdown",
   "metadata": {},
   "source": [
    "$$ \\text{DCG@K} = \\frac{1}{N} \\sum_{i=1}^N\\frac{1}{\\log_2(1+rank\\_q_i^{'})}\\cdot[rank\\_q_i^{'} \\le K],$$"
   ]
  },
  {
   "cell_type": "markdown",
   "metadata": {
    "execution": {
     "iopub.execute_input": "2024-03-28T17:50:44.408714Z",
     "iopub.status.busy": "2024-03-28T17:50:44.408014Z",
     "iopub.status.idle": "2024-03-28T17:50:44.419184Z",
     "shell.execute_reply": "2024-03-28T17:50:44.418226Z",
     "shell.execute_reply.started": "2024-03-28T17:50:44.408683Z"
    },
    "tags": []
   },
   "source": [
    "$$ \\text{DCG@K} = \\frac{1}{1} \\sum_{i=1}^1\\frac{1}{\\log_2(1+9)}\\cdot[9 \\le 10] = \\frac{1}{\\log_2(10)}$$"
   ]
  },
  {
   "cell_type": "code",
   "execution_count": 17,
   "metadata": {
    "execution": {
     "iopub.execute_input": "2024-03-28T19:00:57.749082Z",
     "iopub.status.busy": "2024-03-28T19:00:57.748063Z",
     "iopub.status.idle": "2024-03-28T19:00:57.768672Z",
     "shell.execute_reply": "2024-03-28T19:00:57.767981Z",
     "shell.execute_reply.started": "2024-03-28T19:00:57.749052Z"
    },
    "tags": []
   },
   "outputs": [
    {
     "data": {
      "text/plain": [
       "3.321928094887362"
      ]
     },
     "execution_count": 17,
     "metadata": {},
     "output_type": "execute_result"
    }
   ],
   "source": [
    "np.log2(10) "
   ]
  },
  {
   "cell_type": "markdown",
   "metadata": {
    "execution": {
     "iopub.execute_input": "2024-03-28T18:59:48.304272Z",
     "iopub.status.busy": "2024-03-28T18:59:48.303550Z",
     "iopub.status.idle": "2024-03-28T18:59:48.320051Z",
     "shell.execute_reply": "2024-03-28T18:59:48.318742Z",
     "shell.execute_reply.started": "2024-03-28T18:59:48.304232Z"
    },
    "tags": []
   },
   "source": [
    "#### Ответ 4:\n",
    "* Вычислите `DCG@10`, если $rank\\_q_i^{'} = 9$ равен 3.3"
   ]
  },
  {
   "cell_type": "markdown",
   "metadata": {
    "id": "J5xWOORI6j2F"
   },
   "source": [
    "### HITS\\_COUNT и DCG\\_SCORE"
   ]
  },
  {
   "cell_type": "markdown",
   "metadata": {
    "id": "I1q9WQOx6j2H"
   },
   "source": [
    "Каждая функция имеет два аргумента: $dup\\_ranks$ и $k$. $dup\\_ranks$ является списком, который содержит рейтинги дубликатов(их позиции в ранжированном списке). Например, $dup\\_ranks = [2]$ для примера, описанного выше."
   ]
  },
  {
   "cell_type": "code",
   "execution_count": 18,
   "metadata": {
    "execution": {
     "iopub.execute_input": "2024-03-28T19:00:57.770086Z",
     "iopub.status.busy": "2024-03-28T19:00:57.769483Z",
     "iopub.status.idle": "2024-03-28T19:00:57.787943Z",
     "shell.execute_reply": "2024-03-28T19:00:57.787294Z",
     "shell.execute_reply.started": "2024-03-28T19:00:57.770052Z"
    },
    "id": "F5VwySUB6j2J",
    "tags": []
   },
   "outputs": [],
   "source": [
    "def hits_count(dup_ranks, k):\n",
    "    \"\"\"\n",
    "        dup_ranks: list индексов дубликатов\n",
    "        result: вернуть  Hits@k\n",
    "    \"\"\"\n",
    "    '''your code'''\n",
    "    N = len(dup_ranks)\n",
    "    indicator = [dup_ranks[i] <= k for i in range(N)]\n",
    "    hits_value = sum(indicator) / N\n",
    "    return hits_value    "
   ]
  },
  {
   "cell_type": "code",
   "execution_count": 19,
   "metadata": {
    "execution": {
     "iopub.execute_input": "2024-03-28T19:00:57.789437Z",
     "iopub.status.busy": "2024-03-28T19:00:57.788987Z",
     "iopub.status.idle": "2024-03-28T19:00:57.801466Z",
     "shell.execute_reply": "2024-03-28T19:00:57.800836Z",
     "shell.execute_reply.started": "2024-03-28T19:00:57.789409Z"
    },
    "id": "82hQaxCH6j2R",
    "tags": []
   },
   "outputs": [],
   "source": [
    "def dcg_score(dup_ranks, k):\n",
    "    \"\"\"\n",
    "        dup_ranks: list индексов дубликатов\n",
    "        result: вернуть DCG@k\n",
    "    \"\"\"\n",
    "    '''your code'''\n",
    "    N = len(dup_ranks)\n",
    "    S = sum([int(dup_ranks[i] <= k) / np.log2(1 + dup_ranks[i]) for i in range(N)])\n",
    "    dcg_value = S / N\n",
    "    return dcg_value"
   ]
  },
  {
   "cell_type": "code",
   "execution_count": 20,
   "metadata": {
    "execution": {
     "iopub.execute_input": "2024-03-28T19:00:57.803013Z",
     "iopub.status.busy": "2024-03-28T19:00:57.802486Z",
     "iopub.status.idle": "2024-03-28T19:00:57.823363Z",
     "shell.execute_reply": "2024-03-28T19:00:57.822819Z",
     "shell.execute_reply.started": "2024-03-28T19:00:57.802988Z"
    },
    "tags": []
   },
   "outputs": [
    {
     "name": "stdout",
     "output_type": "stream",
     "text": [
      "hits_count(k=1) = 0.0 ,  dcg_score(k=1) = 0.0\n",
      "hits_count(k=4) = 1.0 , dcg_score(k=4) = 0.6309297535714575\n"
     ]
    }
   ],
   "source": [
    "N = 1\n",
    "R = 3\n",
    "dup_ranks = [2]\n",
    "\n",
    "K = 1\n",
    "print(f'hits_count(k={K}) = {hits_count(dup_ranks, K)} ,  \\\n",
    "dcg_score(k={K}) = {dcg_score(dup_ranks, K)}')\n",
    "\n",
    "K = 4\n",
    "print(f'hits_count(k={K}) = {hits_count(dup_ranks, K)} , \\\n",
    "dcg_score(k={K}) = {dcg_score(dup_ranks, K)}')"
   ]
  },
  {
   "cell_type": "markdown",
   "metadata": {
    "id": "PcwHeXN26j2Y"
   },
   "source": [
    "Протестируем функции. Пусть $N = 1$, то есть один эксперимент. Будем искать копию вопроса и оценивать метрики."
   ]
  },
  {
   "cell_type": "code",
   "execution_count": 21,
   "metadata": {
    "execution": {
     "iopub.execute_input": "2024-03-28T19:00:57.824424Z",
     "iopub.status.busy": "2024-03-28T19:00:57.824061Z",
     "iopub.status.idle": "2024-03-28T19:00:57.831667Z",
     "shell.execute_reply": "2024-03-28T19:00:57.831145Z",
     "shell.execute_reply.started": "2024-03-28T19:00:57.824397Z"
    },
    "id": "fjISmOEW6j2h",
    "tags": []
   },
   "outputs": [],
   "source": [
    "import pandas as pd"
   ]
  },
  {
   "cell_type": "code",
   "execution_count": 22,
   "metadata": {
    "execution": {
     "iopub.execute_input": "2024-03-28T19:00:57.833164Z",
     "iopub.status.busy": "2024-03-28T19:00:57.832323Z",
     "iopub.status.idle": "2024-03-28T19:00:57.846733Z",
     "shell.execute_reply": "2024-03-28T19:00:57.846054Z",
     "shell.execute_reply.started": "2024-03-28T19:00:57.833117Z"
    },
    "tags": []
   },
   "outputs": [],
   "source": [
    "copy_answers = [\"How does the catch keyword determine the type of exception that was thrown\",]\n",
    "\n",
    "# наши кандидаты\n",
    "candidates_ranking = [[\"How Can I Make These Links Rotate in PHP\",\n",
    "                       \"How does the catch keyword determine the type of exception that was thrown\",\n",
    "                       \"NSLog array description not memory address\",\n",
    "                       \"PECL_HTTP not recognised php ubuntu\"],]"
   ]
  },
  {
   "cell_type": "code",
   "execution_count": 23,
   "metadata": {
    "execution": {
     "iopub.execute_input": "2024-03-28T19:00:57.848911Z",
     "iopub.status.busy": "2024-03-28T19:00:57.847947Z",
     "iopub.status.idle": "2024-03-28T19:00:57.857005Z",
     "shell.execute_reply": "2024-03-28T19:00:57.856304Z",
     "shell.execute_reply.started": "2024-03-28T19:00:57.848879Z"
    },
    "tags": []
   },
   "outputs": [],
   "source": [
    "# dup_ranks — позиции наших копий, так как эксперимент один, то этот массив длины 1\n",
    "dup_ranks = [2]"
   ]
  },
  {
   "cell_type": "code",
   "execution_count": 24,
   "metadata": {
    "execution": {
     "iopub.execute_input": "2024-03-28T19:00:57.861785Z",
     "iopub.status.busy": "2024-03-28T19:00:57.861073Z",
     "iopub.status.idle": "2024-03-28T19:00:57.873896Z",
     "shell.execute_reply": "2024-03-28T19:00:57.873210Z",
     "shell.execute_reply.started": "2024-03-28T19:00:57.861753Z"
    },
    "id": "gLa_Wqfh6j2m",
    "tags": []
   },
   "outputs": [
    {
     "name": "stdout",
     "output_type": "stream",
     "text": [
      "Ваш ответ HIT: [0.0, 1.0, 1.0, 1.0]\n",
      "Ваш ответ DCG: [0.0, 0.63093, 0.63093, 0.63093]\n"
     ]
    }
   ],
   "source": [
    "# вычисляем метрику для разных k\n",
    "print('Ваш ответ HIT:', [hits_count(dup_ranks, k) for k in range(1, 5)])\n",
    "print('Ваш ответ DCG:', [round(dcg_score(dup_ranks, k), 5) for k in range(1, 5)])"
   ]
  },
  {
   "cell_type": "markdown",
   "metadata": {
    "id": "MoHC3YoQ6j2t"
   },
   "source": [
    "У вас должно получиться"
   ]
  },
  {
   "cell_type": "code",
   "execution_count": 25,
   "metadata": {
    "execution": {
     "iopub.execute_input": "2024-03-28T19:00:57.875964Z",
     "iopub.status.busy": "2024-03-28T19:00:57.875326Z",
     "iopub.status.idle": "2024-03-28T19:00:57.897333Z",
     "shell.execute_reply": "2024-03-28T19:00:57.896648Z",
     "shell.execute_reply.started": "2024-03-28T19:00:57.875937Z"
    },
    "id": "B0NFWq4f6j2u",
    "scrolled": true,
    "tags": []
   },
   "outputs": [
    {
     "data": {
      "text/html": [
       "<div>\n",
       "<style scoped>\n",
       "    .dataframe tbody tr th:only-of-type {\n",
       "        vertical-align: middle;\n",
       "    }\n",
       "\n",
       "    .dataframe tbody tr th {\n",
       "        vertical-align: top;\n",
       "    }\n",
       "\n",
       "    .dataframe thead th {\n",
       "        text-align: right;\n",
       "    }\n",
       "</style>\n",
       "<table border=\"1\" class=\"dataframe\">\n",
       "  <thead>\n",
       "    <tr style=\"text-align: right;\">\n",
       "      <th></th>\n",
       "      <th>1</th>\n",
       "      <th>2</th>\n",
       "      <th>3</th>\n",
       "      <th>4</th>\n",
       "    </tr>\n",
       "  </thead>\n",
       "  <tbody>\n",
       "    <tr>\n",
       "      <th>HITS</th>\n",
       "      <td>0</td>\n",
       "      <td>1.00000</td>\n",
       "      <td>1.00000</td>\n",
       "      <td>1.00000</td>\n",
       "    </tr>\n",
       "    <tr>\n",
       "      <th>DCG</th>\n",
       "      <td>0</td>\n",
       "      <td>0.63093</td>\n",
       "      <td>0.63093</td>\n",
       "      <td>0.63093</td>\n",
       "    </tr>\n",
       "  </tbody>\n",
       "</table>\n",
       "</div>"
      ],
      "text/plain": [
       "      1        2        3        4\n",
       "HITS  0  1.00000  1.00000  1.00000\n",
       "DCG   0  0.63093  0.63093  0.63093"
      ]
     },
     "execution_count": 25,
     "metadata": {},
     "output_type": "execute_result"
    }
   ],
   "source": [
    "# correct_answers - метрика для разных k\n",
    "correct_answers = pd.DataFrame([[0, 1, 1, 1], [0, 1 / (np.log2(3)), 1 / (np.log2(3)), 1 / (np.log2(3))]],\n",
    "                               index=['HITS', 'DCG'], columns=range(1,5))\n",
    "correct_answers"
   ]
  },
  {
   "cell_type": "markdown",
   "metadata": {
    "id": "tHZqgDTo6j0i"
   },
   "source": [
    "### Данные\n",
    "[arxiv link](https://drive.google.com/file/d/1QqT4D0EoqJTy7v9VrNCYD-m964XZFR7_/edit)\n",
    "\n",
    "`train.tsv` - выборка для обучения.<br> В каждой строке через табуляцию записаны: **<вопрос>, <похожий вопрос>**\n",
    "\n",
    "`validation.tsv` - тестовая выборка.<br> В каждой строке через табуляцию записаны: **<вопрос>, <похожий вопрос>, <отрицательный пример 1>, <отрицательный пример 2>, ...**"
   ]
  },
  {
   "cell_type": "code",
   "execution_count": 26,
   "metadata": {
    "colab": {
     "base_uri": "https://localhost:8080/"
    },
    "execution": {
     "iopub.execute_input": "2024-03-28T19:00:57.898493Z",
     "iopub.status.busy": "2024-03-28T19:00:57.898162Z",
     "iopub.status.idle": "2024-03-28T19:00:57.919342Z",
     "shell.execute_reply": "2024-03-28T19:00:57.918699Z",
     "shell.execute_reply.started": "2024-03-28T19:00:57.898468Z"
    },
    "executionInfo": {
     "elapsed": 28,
     "status": "ok",
     "timestamp": 1628256058346,
     "user": {
      "displayName": "Deep Learning School",
      "photoUrl": "https://lh3.googleusercontent.com/a-/AOh14GhNf0RkP5WvkU5MixKfC1Sv3mb-9QWgAbC6VcfQvA=s64",
      "userId": "16549096980415837553"
     },
     "user_tz": -180
    },
    "id": "jKVK2lDGvrIe",
    "outputId": "51944c9b-d6e8-41af-bec4-bb35fba5d51b",
    "tags": []
   },
   "outputs": [],
   "source": [
    "# !unzip stackoverflow_similar_questions.zip"
   ]
  },
  {
   "cell_type": "markdown",
   "metadata": {
    "id": "hil2UsUG6j22"
   },
   "source": [
    "Считайте данные."
   ]
  },
  {
   "cell_type": "code",
   "execution_count": 27,
   "metadata": {
    "execution": {
     "iopub.execute_input": "2024-03-28T19:00:57.920695Z",
     "iopub.status.busy": "2024-03-28T19:00:57.920195Z",
     "iopub.status.idle": "2024-03-28T19:00:57.932002Z",
     "shell.execute_reply": "2024-03-28T19:00:57.931449Z",
     "shell.execute_reply.started": "2024-03-28T19:00:57.920664Z"
    },
    "id": "B4EBho8s6j26",
    "tags": []
   },
   "outputs": [],
   "source": [
    "def read_corpus(filename):\n",
    "    data = []\n",
    "    for line in open(filename, encoding='utf-8'):\n",
    "        '''your code'''\n",
    "        data.append(line.split('\\t'))\n",
    "    return data"
   ]
  },
  {
   "cell_type": "markdown",
   "metadata": {
    "id": "kkTxY3Mk9_nG"
   },
   "source": [
    "Нам понадобиться только файл validation."
   ]
  },
  {
   "cell_type": "code",
   "execution_count": 28,
   "metadata": {
    "colab": {
     "base_uri": "https://localhost:8080/",
     "height": 274
    },
    "execution": {
     "iopub.execute_input": "2024-03-28T19:00:57.933387Z",
     "iopub.status.busy": "2024-03-28T19:00:57.932815Z",
     "iopub.status.idle": "2024-03-28T19:00:58.649418Z",
     "shell.execute_reply": "2024-03-28T19:00:58.648721Z",
     "shell.execute_reply.started": "2024-03-28T19:00:57.933359Z"
    },
    "executionInfo": {
     "elapsed": 21,
     "status": "error",
     "timestamp": 1628256058355,
     "user": {
      "displayName": "Deep Learning School",
      "photoUrl": "https://lh3.googleusercontent.com/a-/AOh14GhNf0RkP5WvkU5MixKfC1Sv3mb-9QWgAbC6VcfQvA=s64",
      "userId": "16549096980415837553"
     },
     "user_tz": -180
    },
    "id": "PTVB9Tnp6j29",
    "outputId": "9c55c802-3d82-471d-eab2-195dabf5026c",
    "tags": []
   },
   "outputs": [],
   "source": [
    "validation_data = read_corpus('data/validation.tsv')"
   ]
  },
  {
   "cell_type": "code",
   "execution_count": 29,
   "metadata": {
    "execution": {
     "iopub.execute_input": "2024-03-28T19:00:58.651086Z",
     "iopub.status.busy": "2024-03-28T19:00:58.650320Z",
     "iopub.status.idle": "2024-03-28T19:00:58.660501Z",
     "shell.execute_reply": "2024-03-28T19:00:58.659912Z",
     "shell.execute_reply.started": "2024-03-28T19:00:58.651049Z"
    },
    "tags": []
   },
   "outputs": [],
   "source": [
    "# validation_data[0]"
   ]
  },
  {
   "cell_type": "markdown",
   "metadata": {
    "id": "bTHfL-9y6j3F"
   },
   "source": [
    "Кол-во строк"
   ]
  },
  {
   "cell_type": "code",
   "execution_count": 30,
   "metadata": {
    "execution": {
     "iopub.execute_input": "2024-03-28T19:00:58.662026Z",
     "iopub.status.busy": "2024-03-28T19:00:58.661353Z",
     "iopub.status.idle": "2024-03-28T19:00:58.673513Z",
     "shell.execute_reply": "2024-03-28T19:00:58.672985Z",
     "shell.execute_reply.started": "2024-03-28T19:00:58.661992Z"
    },
    "id": "z6ubXhIe6j3H",
    "tags": []
   },
   "outputs": [
    {
     "data": {
      "text/plain": [
       "3760"
      ]
     },
     "execution_count": 30,
     "metadata": {},
     "output_type": "execute_result"
    }
   ],
   "source": [
    "len(validation_data)"
   ]
  },
  {
   "cell_type": "markdown",
   "metadata": {
    "id": "kaOQblBy6j3M"
   },
   "source": [
    "Размер нескольких первых строк"
   ]
  },
  {
   "cell_type": "code",
   "execution_count": 31,
   "metadata": {
    "execution": {
     "iopub.execute_input": "2024-03-28T19:00:58.674857Z",
     "iopub.status.busy": "2024-03-28T19:00:58.674161Z",
     "iopub.status.idle": "2024-03-28T19:00:58.690494Z",
     "shell.execute_reply": "2024-03-28T19:00:58.689922Z",
     "shell.execute_reply.started": "2024-03-28T19:00:58.674826Z"
    },
    "id": "yRx6e-Pe6j3M",
    "tags": []
   },
   "outputs": [
    {
     "name": "stdout",
     "output_type": "stream",
     "text": [
      "1 1001\n",
      "2 1001\n",
      "3 1001\n",
      "4 1001\n",
      "5 1001\n"
     ]
    }
   ],
   "source": [
    "for i in range(5):\n",
    "    print(i + 1, len(validation_data[i]))"
   ]
  },
  {
   "cell_type": "code",
   "execution_count": 32,
   "metadata": {
    "execution": {
     "iopub.execute_input": "2024-03-28T19:00:58.692072Z",
     "iopub.status.busy": "2024-03-28T19:00:58.691434Z",
     "iopub.status.idle": "2024-03-28T19:00:58.699926Z",
     "shell.execute_reply": "2024-03-28T19:00:58.699287Z",
     "shell.execute_reply.started": "2024-03-28T19:00:58.692041Z"
    },
    "tags": []
   },
   "outputs": [],
   "source": [
    "# validation_data[0][:500]"
   ]
  },
  {
   "cell_type": "markdown",
   "metadata": {
    "id": "ySQQp0oQt1Ep"
   },
   "source": [
    "### Ранжирование без обучения"
   ]
  },
  {
   "cell_type": "markdown",
   "metadata": {
    "id": "iElEDhj-6j3R"
   },
   "source": [
    "Реализуйте функцию ранжирования кандидатов на основе косинусного расстояния. Функция должна по списку кандидатов вернуть отсортированный список пар (позиция в исходном списке кандидатов, кандидат). При этом позиция кандидата в полученном списке является его рейтингом (первый - лучший). Например, если исходный список кандидатов был [a, b, c], и самый похожий на исходный вопрос среди них - c, затем a, и в конце b, то функция должна вернуть список **[(2, c), (0, a), (1, b)]**."
   ]
  },
  {
   "cell_type": "code",
   "execution_count": 33,
   "metadata": {
    "execution": {
     "iopub.execute_input": "2024-03-28T19:00:58.701335Z",
     "iopub.status.busy": "2024-03-28T19:00:58.700847Z",
     "iopub.status.idle": "2024-03-28T19:00:58.726950Z",
     "shell.execute_reply": "2024-03-28T19:00:58.726399Z",
     "shell.execute_reply.started": "2024-03-28T19:00:58.701309Z"
    }
   },
   "outputs": [
    {
     "name": "stdout",
     "output_type": "stream",
     "text": [
      "['I', 'love', 'neural', 'network']\n",
      "-1.41\n"
     ]
    }
   ],
   "source": [
    "'''your code'''\n",
    "\n",
    "sentence = 'I love neural networks'\n",
    "tokens = tokenizer.tokenize(sentence)\n",
    "print(tokens)\n",
    "\n",
    "vector = question_to_vec(sentence, wv_embeddings, tokenizer)\n",
    "print(f'{vector[2]:.2f}')"
   ]
  },
  {
   "cell_type": "code",
   "execution_count": 34,
   "metadata": {
    "execution": {
     "iopub.execute_input": "2024-03-28T19:00:58.728145Z",
     "iopub.status.busy": "2024-03-28T19:00:58.727723Z",
     "iopub.status.idle": "2024-03-28T19:00:58.736304Z",
     "shell.execute_reply": "2024-03-28T19:00:58.735673Z",
     "shell.execute_reply.started": "2024-03-28T19:00:58.728114Z"
    },
    "tags": []
   },
   "outputs": [],
   "source": [
    "# сортируем список кандидатов с учетом позиции\n",
    "# sorted_candidates = sorted(candidates, key=lambda candidate: cosine_similarity(candidate, question), reverse=True)"
   ]
  },
  {
   "cell_type": "code",
   "execution_count": 35,
   "metadata": {
    "execution": {
     "iopub.execute_input": "2024-03-28T19:00:58.737725Z",
     "iopub.status.busy": "2024-03-28T19:00:58.737163Z",
     "iopub.status.idle": "2024-03-28T19:00:58.774017Z",
     "shell.execute_reply": "2024-03-28T19:00:58.773469Z",
     "shell.execute_reply.started": "2024-03-28T19:00:58.737696Z"
    },
    "tags": []
   },
   "outputs": [
    {
     "name": "stdout",
     "output_type": "stream",
     "text": [
      "[[3 6 1]\n",
      " [2 8 5]\n",
      " [1 4 7]]\n"
     ]
    }
   ],
   "source": [
    "# Создание массива\n",
    "arr = np.array([\n",
    "    [1, 4, 7],\n",
    "    [3, 6, 1],\n",
    "    [2, 8, 5]\n",
    "])\n",
    "\n",
    "# Сортировка по третьему столбцу\n",
    "sorted_arr = arr[arr[:, 2].argsort()]\n",
    "\n",
    "print(sorted_arr)"
   ]
  },
  {
   "cell_type": "code",
   "execution_count": 36,
   "metadata": {
    "execution": {
     "iopub.execute_input": "2024-03-28T19:00:58.775403Z",
     "iopub.status.busy": "2024-03-28T19:00:58.774722Z",
     "iopub.status.idle": "2024-03-28T19:00:58.802915Z",
     "shell.execute_reply": "2024-03-28T19:00:58.802352Z",
     "shell.execute_reply.started": "2024-03-28T19:00:58.775371Z"
    },
    "id": "1yP8wJWj6j3X",
    "tags": []
   },
   "outputs": [],
   "source": [
    "def rank_candidates(question, candidates, embeddings, tokenizer, dim=200):\n",
    "    \"\"\"\n",
    "        question: строка\n",
    "        candidates: массив строк(кандидатов) [a, b, c]\n",
    "        result: пары (начальная позиция, кандидат) [(2, c), (0, a), (1, b)]\n",
    "    \"\"\"\n",
    "    '''your code'''\n",
    "    # 1 - cosine_similarity\n",
    "   \n",
    "    vec_question = question_to_vec(question, embeddings, tokenizer)\n",
    "    # print(vec_question[:10])\n",
    "    \n",
    "    len_candidates = len(candidates)\n",
    "    vec_candidates = np.zeros((len_candidates, dim))\n",
    "    for i in range(len_candidates):\n",
    "        # print(candidates[i])\n",
    "        vec_candidates[i] = question_to_vec(candidates[i], embeddings, tokenizer)\n",
    "        \n",
    "    \n",
    "    norm_vec_question = np.linalg.norm(vec_question, ord=2)\n",
    "\n",
    "    сos_dist = np.zeros(len_candidates)\n",
    "    for i in range(len_candidates):\n",
    "        norm_vec_candidat = np.linalg.norm(vec_candidates[i], ord=2)\n",
    "        if norm_vec_candidat != 0: \n",
    "            cos_similarity = vec_question @ vec_candidates[i] / (norm_vec_question * norm_vec_candidat)  \n",
    "        else:\n",
    "            cos_similarity = 0\n",
    "        сos_dist[i] = 1 - cos_similarity\n",
    "        \n",
    "    ind = np.arange(сos_dist.shape[0]).reshape(-1, 1)    \n",
    "    ind_сos_dist = np.c_[ind, сos_dist]\n",
    "    sort_ind_сos_dist = ind_сos_dist[ind_сos_dist[:, 1].argsort()]\n",
    "    \n",
    "    result = [(int(ind), candidates[int(ind)]) for ind, _ in sort_ind_сos_dist]\n",
    "    \n",
    "    return result\n",
    "    \n",
    "    "
   ]
  },
  {
   "cell_type": "markdown",
   "metadata": {
    "id": "TnBszTb76j3c"
   },
   "source": [
    "Протестируйте работу функции на примерах ниже. Пусть $N=2$, то есть два эксперимента"
   ]
  },
  {
   "cell_type": "code",
   "execution_count": 37,
   "metadata": {
    "execution": {
     "iopub.execute_input": "2024-03-28T19:00:58.804405Z",
     "iopub.status.busy": "2024-03-28T19:00:58.803686Z",
     "iopub.status.idle": "2024-03-28T19:00:58.822520Z",
     "shell.execute_reply": "2024-03-28T19:00:58.821862Z",
     "shell.execute_reply.started": "2024-03-28T19:00:58.804373Z"
    },
    "id": "xvQgtP176j3h",
    "tags": []
   },
   "outputs": [],
   "source": [
    "questions = ['converting string to list', \n",
    "             'Sending array via Ajax fails'] \n",
    "\n",
    "candidates = [['Convert Google results object (pure js) to Python object', # первый эксперимент\n",
    "               'C# create cookie from string and send it',\n",
    "               'How to use jQuery AJAX for an outside domain?'],\n",
    "              \n",
    "              ['Getting all list items of an unordered list in PHP',      # второй эксперимент\n",
    "               'WPF- How to update the changes in list item of a list',\n",
    "               'select2 not displaying search results']]"
   ]
  },
  {
   "cell_type": "code",
   "execution_count": 38,
   "metadata": {
    "execution": {
     "iopub.execute_input": "2024-03-28T19:00:58.823918Z",
     "iopub.status.busy": "2024-03-28T19:00:58.823377Z",
     "iopub.status.idle": "2024-03-28T19:00:58.873467Z",
     "shell.execute_reply": "2024-03-28T19:00:58.872834Z",
     "shell.execute_reply.started": "2024-03-28T19:00:58.823885Z"
    },
    "id": "bPj1JGFi6j3m",
    "tags": []
   },
   "outputs": [
    {
     "name": "stdout",
     "output_type": "stream",
     "text": [
      "(1, 'C# create cookie from string and send it')\n",
      "(0, 'Convert Google results object (pure js) to Python object')\n",
      "(2, 'How to use jQuery AJAX for an outside domain?')\n",
      "\n",
      "(0, 'Getting all list items of an unordered list in PHP')\n",
      "(2, 'select2 not displaying search results')\n",
      "(1, 'WPF- How to update the changes in list item of a list')\n",
      "\n"
     ]
    }
   ],
   "source": [
    "for question, q_candidates in zip(questions, candidates):\n",
    "    ranks = rank_candidates(question, q_candidates, wv_embeddings, tokenizer)\n",
    "    print(*ranks, sep='\\n')\n",
    "    print()"
   ]
  },
  {
   "cell_type": "markdown",
   "metadata": {
    "id": "jm4cidj56j3q"
   },
   "source": [
    "Для первого экперимента вы можете полностью сравнить ваши ответы и правильные ответы. Но для второго эксперимента два ответа на кандидаты будут <b>скрыты</b>(*)"
   ]
  },
  {
   "cell_type": "code",
   "execution_count": 39,
   "metadata": {
    "execution": {
     "iopub.execute_input": "2024-03-28T19:00:58.874920Z",
     "iopub.status.busy": "2024-03-28T19:00:58.874448Z",
     "iopub.status.idle": "2024-03-28T19:00:58.886269Z",
     "shell.execute_reply": "2024-03-28T19:00:58.885644Z",
     "shell.execute_reply.started": "2024-03-28T19:00:58.874898Z"
    },
    "id": "0LeKMIsn6j3s",
    "tags": []
   },
   "outputs": [],
   "source": [
    "# должно вывести\n",
    "# results = [[(1, 'C# create cookie from string and send it'),\n",
    "#             (0, 'Convert Google results object (pure js) to Python object'),\n",
    "#             (2, 'How to use jQuery AJAX for an outside domain?')],\n",
    "#            [(*, 'Getting all list items of an unordered list in PHP'), #скрыт\n",
    "#             (*, 'select2 not displaying search results'), #скрыт\n",
    "#             (*, 'WPF- How to update the changes in list item of a list')]] #скрыт"
   ]
  },
  {
   "cell_type": "markdown",
   "metadata": {
    "id": "t1ttnIBe6j3x"
   },
   "source": [
    "Последовательность начальных индексов вы должны получить `для эксперимента 1`  1, 0, 2."
   ]
  },
  {
   "cell_type": "markdown",
   "metadata": {
    "id": "5WQgYDWd6j3y"
   },
   "source": [
    "#### Вопрос 5:\n",
    "* Какую последовательность начальных индексов вы получили `для эксперимента 2`(перечисление без запятой и пробелов, например, `102` для первого эксперимента?\n",
    "\n",
    "#### Ответ 5:\n",
    "* 123"
   ]
  },
  {
   "cell_type": "markdown",
   "metadata": {
    "id": "fPllOY-Y6j30"
   },
   "source": [
    "Теперь мы можем оценить качество нашего метода. Запустите следующие два блока кода для получения результата. Обратите внимание, что вычисление расстояния между векторами занимает некоторое время (примерно 10 минут). Можете взять для validation 1000 примеров."
   ]
  },
  {
   "cell_type": "code",
   "execution_count": 41,
   "metadata": {
    "execution": {
     "iopub.execute_input": "2024-03-28T19:00:58.899766Z",
     "iopub.status.busy": "2024-03-28T19:00:58.899086Z",
     "iopub.status.idle": "2024-03-28T19:00:58.974251Z",
     "shell.execute_reply": "2024-03-28T19:00:58.973630Z",
     "shell.execute_reply.started": "2024-03-28T19:00:58.899733Z"
    },
    "id": "Z3q9sxddz-yU",
    "tags": []
   },
   "outputs": [],
   "source": [
    "from tqdm.notebook import tqdm"
   ]
  },
  {
   "cell_type": "code",
   "execution_count": 42,
   "metadata": {
    "execution": {
     "iopub.execute_input": "2024-03-28T19:00:58.975980Z",
     "iopub.status.busy": "2024-03-28T19:00:58.975149Z",
     "iopub.status.idle": "2024-03-28T19:00:58.984781Z",
     "shell.execute_reply": "2024-03-28T19:00:58.984246Z",
     "shell.execute_reply.started": "2024-03-28T19:00:58.975920Z"
    },
    "tags": []
   },
   "outputs": [
    {
     "data": {
      "text/plain": [
       "1.3888888888888888"
      ]
     },
     "execution_count": 42,
     "metadata": {},
     "output_type": "execute_result"
    }
   ],
   "source": [
    "1000 * 5 / 3600 # часов все это выполняется"
   ]
  },
  {
   "cell_type": "code",
   "execution_count": 43,
   "metadata": {
    "execution": {
     "iopub.execute_input": "2024-03-28T19:00:58.987209Z",
     "iopub.status.busy": "2024-03-28T19:00:58.986760Z",
     "iopub.status.idle": "2024-03-28T19:02:05.267949Z",
     "shell.execute_reply": "2024-03-28T19:02:05.267241Z",
     "shell.execute_reply.started": "2024-03-28T19:00:58.987186Z"
    },
    "id": "nu7K4mis6j32",
    "tags": []
   },
   "outputs": [
    {
     "data": {
      "application/vnd.jupyter.widget-view+json": {
       "model_id": "b0d5e5e199a2445d9feb5330541df279",
       "version_major": 2,
       "version_minor": 0
      },
      "text/plain": [
       "  0%|          | 0/15 [00:00<?, ?it/s]"
      ]
     },
     "metadata": {},
     "output_type": "display_data"
    },
    {
     "name": "stdout",
     "output_type": "stream",
     "text": [
      "CPU times: user 1min 6s, sys: 576 ms, total: 1min 6s\n",
      "Wall time: 1min 6s\n"
     ]
    }
   ],
   "source": [
    "%%time\n",
    "# невозможно долго\n",
    "wv_ranking = []\n",
    "max_validation_examples = 1000\n",
    "for i, line in enumerate(tqdm(validation_data[:15])):\n",
    "    if i == max_validation_examples:\n",
    "        break\n",
    "    q, *ex = line\n",
    "    ranks = rank_candidates(q, ex, wv_embeddings, tokenizer)\n",
    "    wv_ranking.append([r[0] for r in ranks].index(0) + 1) # смотрим на какое место встал первый кандидат"
   ]
  },
  {
   "cell_type": "code",
   "execution_count": 44,
   "metadata": {
    "execution": {
     "iopub.execute_input": "2024-03-28T19:02:05.269410Z",
     "iopub.status.busy": "2024-03-28T19:02:05.269010Z",
     "iopub.status.idle": "2024-03-28T19:02:05.280698Z",
     "shell.execute_reply": "2024-03-28T19:02:05.280070Z",
     "shell.execute_reply.started": "2024-03-28T19:02:05.269380Z"
    },
    "tags": []
   },
   "outputs": [
    {
     "data": {
      "text/plain": [
       "[2, 32, 3, 1, 9, 2, 2, 5, 1, 1, 546, 1, 386, 1, 1]"
      ]
     },
     "execution_count": 44,
     "metadata": {},
     "output_type": "execute_result"
    }
   ],
   "source": [
    "wv_ranking"
   ]
  },
  {
   "cell_type": "code",
   "execution_count": 46,
   "metadata": {
    "execution": {
     "iopub.execute_input": "2024-03-28T19:05:21.341616Z",
     "iopub.status.busy": "2024-03-28T19:05:21.340994Z",
     "iopub.status.idle": "2024-03-28T19:05:21.360837Z",
     "shell.execute_reply": "2024-03-28T19:05:21.360265Z",
     "shell.execute_reply.started": "2024-03-28T19:05:21.341584Z"
    },
    "id": "gDtS520v6j35",
    "scrolled": true,
    "tags": []
   },
   "outputs": [
    {
     "data": {
      "application/vnd.jupyter.widget-view+json": {
       "model_id": "e523e7b6e0b44340a7a9277fb8807f2b",
       "version_major": 2,
       "version_minor": 0
      },
      "text/plain": [
       "  0%|          | 0/6 [00:00<?, ?it/s]"
      ]
     },
     "metadata": {},
     "output_type": "display_data"
    },
    {
     "name": "stdout",
     "output_type": "stream",
     "text": [
      "DCG@   1: 0.400 | Hits@   1: 0.400\n",
      "DCG@   5: 0.585 | Hits@   5: 0.733\n",
      "DCG@  10: 0.605 | Hits@  10: 0.800\n",
      "DCG@ 100: 0.619 | Hits@ 100: 0.867\n",
      "DCG@ 500: 0.626 | Hits@ 500: 0.933\n",
      "DCG@1000: 0.634 | Hits@1000: 1.000\n"
     ]
    }
   ],
   "source": [
    "for k in tqdm([1, 5, 10, 100, 500, 1000]):\n",
    "    print(\"DCG@%4d: %.3f | Hits@%4d: %.3f\" % (k, dcg_score(wv_ranking, k), k, hits_count(wv_ranking, k)))"
   ]
  },
  {
   "cell_type": "markdown",
   "metadata": {
    "id": "LL6_Rjg3InL8"
   },
   "source": [
    "### Эмбеддинги, обученные на корпусе похожих вопросов"
   ]
  },
  {
   "cell_type": "code",
   "execution_count": 47,
   "metadata": {
    "execution": {
     "iopub.execute_input": "2024-03-28T19:05:25.901609Z",
     "iopub.status.busy": "2024-03-28T19:05:25.900915Z",
     "iopub.status.idle": "2024-03-28T19:05:27.756860Z",
     "shell.execute_reply": "2024-03-28T19:05:27.756111Z",
     "shell.execute_reply.started": "2024-03-28T19:05:25.901571Z"
    },
    "id": "iNvbpR5gJIPz",
    "tags": []
   },
   "outputs": [],
   "source": [
    "train_data = read_corpus('./data/train.tsv')"
   ]
  },
  {
   "cell_type": "code",
   "execution_count": null,
   "metadata": {
    "execution": {
     "iopub.status.busy": "2024-03-28T19:02:05.603916Z",
     "iopub.status.idle": "2024-03-28T19:02:05.604459Z",
     "shell.execute_reply": "2024-03-28T19:02:05.604324Z"
    },
    "tags": []
   },
   "outputs": [],
   "source": [
    "# validation_data[:3]"
   ]
  },
  {
   "cell_type": "code",
   "execution_count": 48,
   "metadata": {
    "execution": {
     "iopub.execute_input": "2024-03-28T19:05:27.758473Z",
     "iopub.status.busy": "2024-03-28T19:05:27.758052Z",
     "iopub.status.idle": "2024-03-28T19:05:27.786066Z",
     "shell.execute_reply": "2024-03-28T19:05:27.785333Z",
     "shell.execute_reply.started": "2024-03-28T19:05:27.758438Z"
    },
    "tags": []
   },
   "outputs": [
    {
     "data": {
      "text/plain": [
       "1000000"
      ]
     },
     "execution_count": 48,
     "metadata": {},
     "output_type": "execute_result"
    }
   ],
   "source": [
    "len(train_data)"
   ]
  },
  {
   "cell_type": "markdown",
   "metadata": {
    "id": "Nr281ZyEJfjT"
   },
   "source": [
    "Улучшите качество модели.<br>Склеим вопросы в пары и обучим на них модель Word2Vec из gensim. Выберите размер window. Объясните свой выбор."
   ]
  },
  {
   "cell_type": "code",
   "execution_count": null,
   "metadata": {
    "execution": {
     "iopub.status.busy": "2024-03-28T19:02:05.606655Z",
     "iopub.status.idle": "2024-03-28T19:02:05.607002Z",
     "shell.execute_reply": "2024-03-28T19:02:05.606868Z"
    }
   },
   "outputs": [],
   "source": [
    "# размер окна взала 3 и 5\n",
    "# По результатом качество не на много улучшилось потому что я убрала стоп слова и пунктуацию"
   ]
  },
  {
   "cell_type": "code",
   "execution_count": 49,
   "metadata": {
    "execution": {
     "iopub.execute_input": "2024-03-28T19:05:30.480572Z",
     "iopub.status.busy": "2024-03-28T19:05:30.479801Z",
     "iopub.status.idle": "2024-03-28T19:05:30.530628Z",
     "shell.execute_reply": "2024-03-28T19:05:30.530035Z",
     "shell.execute_reply.started": "2024-03-28T19:05:30.480534Z"
    },
    "tags": []
   },
   "outputs": [
    {
     "data": {
      "text/plain": [
       "['converting string to list',\n",
       " 'Convert Google results object (pure js) to Python object\\n']"
      ]
     },
     "execution_count": 49,
     "metadata": {},
     "output_type": "execute_result"
    }
   ],
   "source": [
    "train_data[0]"
   ]
  },
  {
   "cell_type": "code",
   "execution_count": 50,
   "metadata": {
    "execution": {
     "iopub.execute_input": "2024-03-28T19:05:33.386004Z",
     "iopub.status.busy": "2024-03-28T19:05:33.385277Z",
     "iopub.status.idle": "2024-03-28T19:05:33.589509Z",
     "shell.execute_reply": "2024-03-28T19:05:33.588925Z",
     "shell.execute_reply.started": "2024-03-28T19:05:33.385962Z"
    },
    "tags": []
   },
   "outputs": [
    {
     "data": {
      "text/plain": [
       "1000000"
      ]
     },
     "execution_count": 50,
     "metadata": {},
     "output_type": "execute_result"
    }
   ],
   "source": [
    "texts = [' '.join(train_data[i]) for i in range(len(train_data))]\n",
    "len(texts)"
   ]
  },
  {
   "cell_type": "code",
   "execution_count": 51,
   "metadata": {
    "execution": {
     "iopub.execute_input": "2024-03-28T19:05:34.776105Z",
     "iopub.status.busy": "2024-03-28T19:05:34.775341Z",
     "iopub.status.idle": "2024-03-28T19:10:21.661162Z",
     "shell.execute_reply": "2024-03-28T19:10:21.660487Z",
     "shell.execute_reply.started": "2024-03-28T19:05:34.776061Z"
    },
    "tags": []
   },
   "outputs": [
    {
     "data": {
      "application/vnd.jupyter.widget-view+json": {
       "model_id": "c7ce683429754dc6a77f607b2dda9a8b",
       "version_major": 2,
       "version_minor": 0
      },
      "text/plain": [
       "  0%|          | 0/50000 [00:00<?, ?it/s]"
      ]
     },
     "metadata": {},
     "output_type": "display_data"
    },
    {
     "name": "stdout",
     "output_type": "stream",
     "text": [
      "['convert', 'string', 'list', 'convert', 'google', 'result', 'object', 'pure', 'js', 'python', 'object']\n",
      "CPU times: user 4min 48s, sys: 3.1 s, total: 4min 51s\n",
      "Wall time: 4min 46s\n"
     ]
    }
   ],
   "source": [
    "%%time \n",
    "\n",
    "words = []\n",
    "for text in tqdm(texts[:50000]):\n",
    "    words.append(tokenizer.tokenize(text))\n",
    "print(words[0])"
   ]
  },
  {
   "cell_type": "code",
   "execution_count": 52,
   "metadata": {
    "execution": {
     "iopub.execute_input": "2024-03-28T19:10:21.662820Z",
     "iopub.status.busy": "2024-03-28T19:10:21.662263Z",
     "iopub.status.idle": "2024-03-28T19:10:23.981843Z",
     "shell.execute_reply": "2024-03-28T19:10:23.981149Z",
     "shell.execute_reply.started": "2024-03-28T19:10:21.662785Z"
    },
    "tags": []
   },
   "outputs": [],
   "source": [
    "from gensim.models import Word2Vec\n",
    "embeddings_trained = Word2Vec(words,     # data for model to train on\n",
    "                              vector_size=200,  # embedding vector size\n",
    "                              min_count=5, # игнорирует все слова с общей частотой ниже этого значения.\n",
    "                              window=3).wv #это размер окна"
   ]
  },
  {
   "cell_type": "code",
   "execution_count": 53,
   "metadata": {
    "execution": {
     "iopub.execute_input": "2024-03-28T19:10:23.983718Z",
     "iopub.status.busy": "2024-03-28T19:10:23.983116Z",
     "iopub.status.idle": "2024-03-28T19:11:29.933538Z",
     "shell.execute_reply": "2024-03-28T19:11:29.932825Z",
     "shell.execute_reply.started": "2024-03-28T19:10:23.983684Z"
    },
    "tags": []
   },
   "outputs": [
    {
     "data": {
      "application/vnd.jupyter.widget-view+json": {
       "model_id": "792236503a334916b261661a3eaddb1f",
       "version_major": 2,
       "version_minor": 0
      },
      "text/plain": [
       "  0%|          | 0/15 [00:00<?, ?it/s]"
      ]
     },
     "metadata": {},
     "output_type": "display_data"
    },
    {
     "data": {
      "application/vnd.jupyter.widget-view+json": {
       "model_id": "36e3a096c2284e108e5e1daeff022b66",
       "version_major": 2,
       "version_minor": 0
      },
      "text/plain": [
       "  0%|          | 0/6 [00:00<?, ?it/s]"
      ]
     },
     "metadata": {},
     "output_type": "display_data"
    },
    {
     "name": "stdout",
     "output_type": "stream",
     "text": [
      "DCG@   1: 0.400 | Hits@   1: 0.400\n",
      "DCG@   5: 0.400 | Hits@   5: 0.400\n",
      "DCG@  10: 0.419 | Hits@  10: 0.467\n",
      "DCG@ 100: 0.482 | Hits@ 100: 0.800\n",
      "DCG@ 500: 0.508 | Hits@ 500: 1.000\n",
      "DCG@1000: 0.508 | Hits@1000: 1.000\n",
      "CPU times: user 1min 6s, sys: 612 ms, total: 1min 6s\n",
      "Wall time: 1min 5s\n"
     ]
    }
   ],
   "source": [
    "%%time \n",
    "\n",
    "wv_ranking = []\n",
    "max_validation_examples = 1000\n",
    "for i, line in enumerate(tqdm(validation_data[:15])):\n",
    "    if i == max_validation_examples:\n",
    "        break\n",
    "    q, *ex = line\n",
    "    ranks = rank_candidates(q, ex, embeddings_trained, tokenizer)\n",
    "    wv_ranking.append([r[0] for r in ranks].index(0) + 1)\n",
    "    \n",
    "wv_ranking\n",
    "\n",
    "for k in tqdm([1, 5, 10, 100, 500, 1000]):\n",
    "    print(\"DCG@%4d: %.3f | Hits@%4d: %.3f\" % (k, dcg_score(wv_ranking, k), k, hits_count(wv_ranking, k)))"
   ]
  },
  {
   "cell_type": "code",
   "execution_count": 54,
   "metadata": {
    "execution": {
     "iopub.execute_input": "2024-03-28T19:11:29.935341Z",
     "iopub.status.busy": "2024-03-28T19:11:29.934627Z",
     "iopub.status.idle": "2024-03-28T19:11:32.370426Z",
     "shell.execute_reply": "2024-03-28T19:11:32.369682Z",
     "shell.execute_reply.started": "2024-03-28T19:11:29.935306Z"
    },
    "id": "QuJzAM0cI-UH",
    "tags": []
   },
   "outputs": [],
   "source": [
    "from gensim.models import Word2Vec\n",
    "embeddings_trained = Word2Vec(words,     # data for model to train on\n",
    "                              vector_size=200,  # embedding vector size\n",
    "                              min_count=5, # игнорирует все слова с общей частотой ниже этого значения.\n",
    "                              window=5).wv #это размер окна"
   ]
  },
  {
   "cell_type": "code",
   "execution_count": 55,
   "metadata": {
    "execution": {
     "iopub.execute_input": "2024-03-28T19:11:32.371974Z",
     "iopub.status.busy": "2024-03-28T19:11:32.371378Z",
     "iopub.status.idle": "2024-03-28T19:12:38.134373Z",
     "shell.execute_reply": "2024-03-28T19:12:38.133778Z",
     "shell.execute_reply.started": "2024-03-28T19:11:32.371943Z"
    },
    "id": "OQonbm4nMenD",
    "tags": []
   },
   "outputs": [
    {
     "data": {
      "application/vnd.jupyter.widget-view+json": {
       "model_id": "168bd1d53f854b55add557fde6af1721",
       "version_major": 2,
       "version_minor": 0
      },
      "text/plain": [
       "  0%|          | 0/15 [00:00<?, ?it/s]"
      ]
     },
     "metadata": {},
     "output_type": "display_data"
    },
    {
     "data": {
      "application/vnd.jupyter.widget-view+json": {
       "model_id": "0c51e1b8b73b43a9977269213f18596c",
       "version_major": 2,
       "version_minor": 0
      },
      "text/plain": [
       "  0%|          | 0/6 [00:00<?, ?it/s]"
      ]
     },
     "metadata": {},
     "output_type": "display_data"
    },
    {
     "name": "stdout",
     "output_type": "stream",
     "text": [
      "DCG@   1: 0.400 | Hits@   1: 0.400\n",
      "DCG@   5: 0.400 | Hits@   5: 0.400\n",
      "DCG@  10: 0.400 | Hits@  10: 0.400\n",
      "DCG@ 100: 0.495 | Hits@ 100: 0.867\n",
      "DCG@ 500: 0.513 | Hits@ 500: 1.000\n",
      "DCG@1000: 0.513 | Hits@1000: 1.000\n",
      "CPU times: user 1min 5s, sys: 678 ms, total: 1min 6s\n",
      "Wall time: 1min 5s\n"
     ]
    }
   ],
   "source": [
    "%%time \n",
    "\n",
    "wv_ranking = []\n",
    "max_validation_examples = 1000\n",
    "for i, line in enumerate(tqdm(validation_data[:15])):\n",
    "    if i == max_validation_examples:\n",
    "        break\n",
    "    q, *ex = line\n",
    "    ranks = rank_candidates(q, ex, embeddings_trained, tokenizer)\n",
    "    wv_ranking.append([r[0] for r in ranks].index(0) + 1)\n",
    "    \n",
    "wv_ranking\n",
    "\n",
    "for k in tqdm([1, 5, 10, 100, 500, 1000]):\n",
    "    print(\"DCG@%4d: %.3f | Hits@%4d: %.3f\" % (k, dcg_score(wv_ranking, k), k, hits_count(wv_ranking, k)))"
   ]
  },
  {
   "cell_type": "markdown",
   "metadata": {
    "id": "tY8PxB0j-ThG"
   },
   "source": [
    "### Замечание:\n",
    "Решить эту задачу с помощью обучения полноценной нейронной сети будет вам предложено, как часть задания в одной из домашних работ по теме \"Диалоговые системы\"."
   ]
  },
  {
   "cell_type": "markdown",
   "metadata": {
    "id": "vymVj8IxO2PO"
   },
   "source": [
    "Напишите свой вывод о полученных результатах.\n",
    "* Какой принцип токенизации даёт качество лучше и почему?\n",
    "* Помогает ли нормализация слов?\n",
    "* Какие эмбеддинги лучше справляются с задачей и почему?\n",
    "* Почему получилось плохое качество решения задачи?\n",
    "* Предложите свой подход к решению задачи.\n",
    "\n",
    "## Вывод:\n"
   ]
  },
  {
   "cell_type": "markdown",
   "metadata": {},
   "source": [
    "1. Word2Vec дает лучшие результаты потому что\n",
    "2. В данном случае - да\n",
    "3. Полученные Word2Vec, потому что обучены на тестовых данных (именно под этот датасет)\n",
    "4. Вероятно, потому что нужны другие алгоритмы\n",
    "5. Использовать RNN )"
   ]
  },
  {
   "cell_type": "markdown",
   "metadata": {
    "id": "emODHztAQUQz"
   },
   "source": [
    "Еще очень долго работает. Хочется структур побыстрее. "
   ]
  }
 ],
 "metadata": {
  "colab": {
   "collapsed_sections": [
    "BIWqBuEa6j0b",
    "uS9FwWNd5a3S",
    "MQk_rolFwT_h",
    "ai48-5vv6j1d",
    "Y60z4t6W6j16",
    "0sUSxk866j1_",
    "J5xWOORI6j2F",
    "tHZqgDTo6j0i",
    "ySQQp0oQt1Ep",
    "LL6_Rjg3InL8"
   ],
   "name": "[homework]simple_embeddings.ipynb",
   "provenance": []
  },
  "kernelspec": {
   "display_name": "DataSphere Kernel",
   "language": "python",
   "name": "python3"
  },
  "language_info": {
   "codemirror_mode": {
    "name": "ipython",
    "version": 3
   },
   "file_extension": ".py",
   "mimetype": "text/x-python",
   "name": "python",
   "nbconvert_exporter": "python",
   "pygments_lexer": "ipython3",
   "version": "3.7.7"
  }
 },
 "nbformat": 4,
 "nbformat_minor": 4
}
